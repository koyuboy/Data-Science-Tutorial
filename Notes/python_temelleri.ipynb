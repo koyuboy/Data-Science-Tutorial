{
 "cells": [
  {
   "cell_type": "code",
   "execution_count": 1,
   "metadata": {},
   "outputs": [
    {
     "name": "stdout",
     "output_type": "stream",
     "text": [
      "enter name= e\n",
      "enter surname= e\n",
      "enter birth year= 1\n",
      "basarili\n"
     ]
    }
   ],
   "source": [
    "name = input(\"enter name= \")\n",
    "surname = input(\"enter surname= \")\n",
    "year = input(\"enter birth year= \")\n",
    "\n",
    "if (2020-int(year)) >= 18:\n",
    "    print(\"basarili\")\n",
    "else:\n",
    "    print(\"ödeme basarisiz\")"
   ]
  },
  {
   "cell_type": "code",
   "execution_count": null,
   "metadata": {},
   "outputs": [],
   "source": [
    "num = input(\"bir sayi girin=\")\n",
    "sum = 0;\n",
    "for i in range(2,int(num)+1,2):\n",
    "    sum+=i\n",
    "print(\"toplam=\",sum)"
   ]
  },
  {
   "cell_type": "code",
   "execution_count": 3,
   "metadata": {},
   "outputs": [
    {
     "name": "stdout",
     "output_type": "stream",
     "text": [
      "enter username=koyuboy\n",
      "enter password=123\n",
      "Login successful !!\n"
     ]
    }
   ],
   "source": [
    "username = \"koyuboy\"\n",
    "password = \"123\"\n",
    "\n",
    "for i in range(3):\n",
    "    u_name = input(\"enter username=\")\n",
    "    u_password = input(\"enter password=\")\n",
    "    if(u_name == username and u_password == password):\n",
    "        print(\"Login successful !!\")\n",
    "        break\n",
    "    else:\n",
    "        if i == 2:\n",
    "            if(u_name != username or u_password != password):\n",
    "                print(\"Login failed !!\")\n",
    "        else:\n",
    "            print(\"remaining right is __\",2-i,\"__\")"
   ]
  },
  {
   "cell_type": "code",
   "execution_count": 2,
   "metadata": {},
   "outputs": [
    {
     "data": {
      "text/plain": [
       "['tea', 'banana']"
      ]
     },
     "execution_count": 2,
     "metadata": {},
     "output_type": "execute_result"
    }
   ],
   "source": [
    "list1 = [\"apple\",\"tea\",\"banana\"]\n",
    "list2 = [\"coffea\",\"ayran\",\"tea\",\"banana\"]\n",
    "list3 = []\n",
    "for element in list1:\n",
    "    if element in list2:\n",
    "        list3.append(element)\n",
    "\n",
    "list3"
   ]
  },
  {
   "cell_type": "code",
   "execution_count": 12,
   "metadata": {},
   "outputs": [
    {
     "name": "stdout",
     "output_type": "stream",
     "text": [
      "a 3\n",
      "b 4\n",
      "c 2\n",
      "d 2\n"
     ]
    }
   ],
   "source": [
    "list1 = [\"a\",\"b\",\"a\",\"c\",\"d\",\"c\",\"a\",\"b\",\"b\",\"b\",\"d\"]\n",
    "\n",
    "for x in [\"a\",\"b\",\"c\",\"d\"]:\n",
    "    item = x\n",
    "    tekrar = 0\n",
    "    for i in list1:\n",
    "        if item == i:\n",
    "            tekrar+=1\n",
    "    print(item,tekrar)\n",
    "\n",
    "    "
   ]
  },
  {
   "cell_type": "code",
   "execution_count": 8,
   "metadata": {},
   "outputs": [
    {
     "data": {
      "text/plain": [
       "{'elma': 3, 'armut': 2, 'muz': 2, 'aldım': 1}"
      ]
     },
     "execution_count": 8,
     "metadata": {},
     "output_type": "execute_result"
    }
   ],
   "source": [
    "s = \"elma elma armut muz muz elma armut aldım\"\n",
    "myDictionary = {}\n",
    "l = s.split(\" \")\n",
    "for i in l:\n",
    "    if i not in myDictionary:\n",
    "        myDictionary[i] = 1\n",
    "    else:\n",
    "        myDictionary[i] += 1\n",
    "\n",
    "myDictionary\n",
    "\n",
    "\n"
   ]
  },
  {
   "cell_type": "code",
   "execution_count": 16,
   "metadata": {},
   "outputs": [
    {
     "name": "stdout",
     "output_type": "stream",
     "text": [
      "[9, 8, 6, 4, 4, 4, 3, 2, 2, 1]\n"
     ]
    }
   ],
   "source": [
    "def separator(strs):\n",
    "    temp=strs.split(\",\")\n",
    "    myList=[]\n",
    "    for i in temp:\n",
    "        myList.append(int(i))\n",
    "    myList.sort(reverse = True)\n",
    "    print(myList)\n",
    "    \n",
    "numbers = \"1,4,3,2,6,4,8,4,2,9\"\n",
    "separator(numbers)"
   ]
  },
  {
   "cell_type": "code",
   "execution_count": 15,
   "metadata": {},
   "outputs": [
    {
     "name": "stdout",
     "output_type": "stream",
     "text": [
      "4a2b5c1d1e3f1g4h2i\n"
     ]
    }
   ],
   "source": [
    "st = \"aaaabbcccccdefffghhhhii\"\n",
    "before = st[0]\n",
    "result=\"\"\n",
    "for i in range(len(st)) :\n",
    "    if i == 0:\n",
    "        before = st[i]\n",
    "        count = 1\n",
    "        continue\n",
    "    if st[i] == st[i-1]:\n",
    "        count+=1\n",
    "    else:\n",
    "        result+=str(count)+before\n",
    "        before = st[i]\n",
    "        count = 1\n",
    "    if i == len(st)-1:\n",
    "        result+=str(count)+before\n",
    "        \n",
    "print(result)\n",
    "    \n",
    "    \n",
    "    "
   ]
  },
  {
   "cell_type": "code",
   "execution_count": 36,
   "metadata": {},
   "outputs": [
    {
     "name": "stdout",
     "output_type": "stream",
     "text": [
      "['11.09.2004', '19.03.1989', '02.03.1989', '20.05.1960']\n"
     ]
    }
   ],
   "source": [
    "def date_sorter(dates):\n",
    "    temp = []\n",
    "    result = []\n",
    "    for date in dates:\n",
    "        gun,ay,yıl = date.split(\".\")\n",
    "        new_dates = \".\".join([yıl,ay,gun])\n",
    "        temp.append(new_dates)\n",
    "    temp.sort(reverse=True)    \n",
    "    \n",
    "    for date in temp:\n",
    "        yil,ay,gun = date.split(\".\")\n",
    "        new_dates = \".\".join([gun,ay,yil])\n",
    "        result.append(new_dates)\n",
    "    \n",
    "    \n",
    "    \n",
    "    return result\n",
    "\n",
    "\n",
    "\n",
    "dates = [\"20.05.1960\",\"11.09.2004\",\"02.03.1989\",\"19.03.1989\"]\n",
    "    \n",
    "print(date_sorter(dates))"
   ]
  },
  {
   "cell_type": "code",
   "execution_count": 1,
   "metadata": {},
   "outputs": [],
   "source": [
    "import random\n",
    "\n",
    "def password_generator(length):\n",
    "    chars = \"wqewqfqwfefqdaSFWEHWGFWWGWFF8784888484.,.?==?\"\n",
    "    password = \"\"\n",
    "    for i in range(length):\n",
    "        idx = random.randint(0,len(chars)-1)\n",
    "        password += chars[idx]\n",
    "    return password\n",
    "\n"
   ]
  },
  {
   "cell_type": "code",
   "execution_count": 4,
   "metadata": {},
   "outputs": [
    {
     "data": {
      "text/plain": [
       "'88qwq=F8G88Ww'"
      ]
     },
     "execution_count": 4,
     "metadata": {},
     "output_type": "execute_result"
    }
   ],
   "source": [
    "password_generator(13)"
   ]
  },
  {
   "cell_type": "code",
   "execution_count": 21,
   "metadata": {},
   "outputs": [],
   "source": [
    "def time_formatter(sec):\n",
    "    hour = int(sec / 3600)\n",
    "    sec -= int(hour * 3600)\n",
    "    min = int(sec / 60)\n",
    "    sec -= int(min * 60)\n",
    "    result = \".\".join([str(hour),str(min),str(sec)])\n",
    "    return result"
   ]
  },
  {
   "cell_type": "code",
   "execution_count": 26,
   "metadata": {},
   "outputs": [
    {
     "name": "stdout",
     "output_type": "stream",
     "text": [
      "saat.dakika.saniye--> 2.1.40\n"
     ]
    }
   ],
   "source": [
    "\n",
    "print(\"saat.dakika.saniye-->\",time_formatter(7300))"
   ]
  },
  {
   "cell_type": "code",
   "execution_count": 32,
   "metadata": {},
   "outputs": [],
   "source": [
    "def time_formatter2(seconds): \n",
    "    hours, remaining = divmod(seconds,3600)\n",
    "    minute, remaining2 = divmod(remaining,60)\n",
    "    print(hours,\"saat, \",minute,\"dakika, \",remaining2,\"saniye\")"
   ]
  },
  {
   "cell_type": "code",
   "execution_count": 34,
   "metadata": {},
   "outputs": [
    {
     "name": "stdout",
     "output_type": "stream",
     "text": [
      "2 saat,  1 dakika,  40 saniye\n"
     ]
    }
   ],
   "source": [
    "time_formatter2(7300)"
   ]
  },
  {
   "cell_type": "code",
   "execution_count": 70,
   "metadata": {},
   "outputs": [],
   "source": [
    "def is_palindrome(st):\n",
    "    length = len(st)\n",
    "    if length%2 == 0:\n",
    "        left = (length//2)-1\n",
    "        right = (length//2)\n",
    "        for i in range(length//2):\n",
    "            if st[left] == st[right]:\n",
    "                left-=1\n",
    "                right+=1\n",
    "            else:\n",
    "                return False\n",
    "    elif length%2 == 1:\n",
    "        mid = length//2\n",
    "        left = mid-1\n",
    "        right = mid +1\n",
    "        for i in range(mid):\n",
    "            if st[left] == st[right]:\n",
    "                left-=1\n",
    "                right+=1\n",
    "            else:\n",
    "                return False\n",
    "            \n",
    "    return True\n",
    "        \n",
    "    "
   ]
  },
  {
   "cell_type": "code",
   "execution_count": 72,
   "metadata": {},
   "outputs": [
    {
     "data": {
      "text/plain": [
       "True"
      ]
     },
     "execution_count": 72,
     "metadata": {},
     "output_type": "execute_result"
    }
   ],
   "source": [
    "is_palindrome(\"kütük\")"
   ]
  },
  {
   "cell_type": "code",
   "execution_count": 77,
   "metadata": {},
   "outputs": [],
   "source": [
    "def fibonacci(length):\n",
    "    prev = 1\n",
    "    current = 1\n",
    "    result = \"1,1\"\n",
    "    for i in range(length-2):\n",
    "        temp = prev\n",
    "        prev = current\n",
    "        current += temp\n",
    "        result +=\",\"+str(current)\n",
    "    print(\"fibonacci series is -->\",result)\n",
    "    "
   ]
  },
  {
   "cell_type": "code",
   "execution_count": 79,
   "metadata": {},
   "outputs": [
    {
     "name": "stdout",
     "output_type": "stream",
     "text": [
      "fibonacci series is --> 1,1,2,3,5,8,13,21,34,55\n"
     ]
    }
   ],
   "source": [
    "fibonacci(10)"
   ]
  },
  {
   "cell_type": "code",
   "execution_count": 89,
   "metadata": {},
   "outputs": [],
   "source": [
    "class Node:\n",
    "    def __init__(self,data,next = None):\n",
    "        self.Data = data\n",
    "        self.Next = next\n",
    "    def get_data(self):\n",
    "        return self.Data\n",
    "    def next(self):\n",
    "        return self.Next\n",
    "    "
   ]
  },
  {
   "cell_type": "code",
   "execution_count": 90,
   "metadata": {},
   "outputs": [],
   "source": [
    "a = Node(1)\n",
    "b = Node(3,a)\n",
    "c = Node(8,b)\n",
    "d = Node(4,c)"
   ]
  },
  {
   "cell_type": "code",
   "execution_count": 93,
   "metadata": {},
   "outputs": [
    {
     "data": {
      "text/plain": [
       "1"
      ]
     },
     "execution_count": 93,
     "metadata": {},
     "output_type": "execute_result"
    }
   ],
   "source": [
    "d.next().next().next().get_data()"
   ]
  },
  {
   "cell_type": "code",
   "execution_count": 112,
   "metadata": {},
   "outputs": [],
   "source": [
    "class Stack:\n",
    "    def __init__(self, items):\n",
    "        self.Items = items\n",
    "    def push(self,x):\n",
    "        self.Items.append(x)\n",
    "    def pop(self):\n",
    "        return self.Items.pop()"
   ]
  },
  {
   "cell_type": "code",
   "execution_count": 108,
   "metadata": {},
   "outputs": [],
   "source": [
    "stack = Stack([\"a\",\"b\",\"c\"])"
   ]
  },
  {
   "cell_type": "code",
   "execution_count": 114,
   "metadata": {},
   "outputs": [
    {
     "name": "stdout",
     "output_type": "stream",
     "text": [
      "['a', 'b', 'c']\n",
      "['a', 'b', 'c', 'd']\n",
      "['a', 'b', 'c']\n",
      "['a', 'b']\n"
     ]
    }
   ],
   "source": [
    "print(stack.Items)\n",
    "stack.push(\"d\")\n",
    "print(stack.Items)\n",
    "stack.pop()\n",
    "print(stack.Items)\n",
    "stack.pop()\n",
    "print(stack.Items)"
   ]
  },
  {
   "cell_type": "code",
   "execution_count": null,
   "metadata": {},
   "outputs": [],
   "source": []
  },
  {
   "cell_type": "code",
   "execution_count": null,
   "metadata": {},
   "outputs": [],
   "source": []
  }
 ],
 "metadata": {
  "kernelspec": {
   "display_name": "Python 3",
   "language": "python",
   "name": "python3"
  },
  "language_info": {
   "codemirror_mode": {
    "name": "ipython",
    "version": 3
   },
   "file_extension": ".py",
   "mimetype": "text/x-python",
   "name": "python",
   "nbconvert_exporter": "python",
   "pygments_lexer": "ipython3",
   "version": "3.8.3"
  }
 },
 "nbformat": 4,
 "nbformat_minor": 4
}
