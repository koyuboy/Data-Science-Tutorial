{
 "cells": [
  {
   "cell_type": "code",
   "execution_count": 12,
   "metadata": {},
   "outputs": [],
   "source": [
    "import numpy as np\n",
    "import pandas as pd\n",
    "import matplotlib.pyplot as plt\n",
    "import seaborn as sbn"
   ]
  },
  {
   "cell_type": "code",
   "execution_count": 3,
   "metadata": {},
   "outputs": [],
   "source": [
    "dataFrame = pd.read_excel(\"merc.xlsx\")"
   ]
  },
  {
   "cell_type": "code",
   "execution_count": 4,
   "metadata": {},
   "outputs": [
    {
     "data": {
      "text/html": [
       "<div>\n",
       "<style scoped>\n",
       "    .dataframe tbody tr th:only-of-type {\n",
       "        vertical-align: middle;\n",
       "    }\n",
       "\n",
       "    .dataframe tbody tr th {\n",
       "        vertical-align: top;\n",
       "    }\n",
       "\n",
       "    .dataframe thead th {\n",
       "        text-align: right;\n",
       "    }\n",
       "</style>\n",
       "<table border=\"1\" class=\"dataframe\">\n",
       "  <thead>\n",
       "    <tr style=\"text-align: right;\">\n",
       "      <th></th>\n",
       "      <th>year</th>\n",
       "      <th>price</th>\n",
       "      <th>transmission</th>\n",
       "      <th>mileage</th>\n",
       "      <th>tax</th>\n",
       "      <th>mpg</th>\n",
       "      <th>engineSize</th>\n",
       "    </tr>\n",
       "  </thead>\n",
       "  <tbody>\n",
       "    <tr>\n",
       "      <th>0</th>\n",
       "      <td>2005</td>\n",
       "      <td>5200</td>\n",
       "      <td>Automatic</td>\n",
       "      <td>63000</td>\n",
       "      <td>325</td>\n",
       "      <td>32.1</td>\n",
       "      <td>1.8</td>\n",
       "    </tr>\n",
       "    <tr>\n",
       "      <th>1</th>\n",
       "      <td>2017</td>\n",
       "      <td>34948</td>\n",
       "      <td>Automatic</td>\n",
       "      <td>27000</td>\n",
       "      <td>20</td>\n",
       "      <td>61.4</td>\n",
       "      <td>2.1</td>\n",
       "    </tr>\n",
       "    <tr>\n",
       "      <th>2</th>\n",
       "      <td>2016</td>\n",
       "      <td>49948</td>\n",
       "      <td>Automatic</td>\n",
       "      <td>6200</td>\n",
       "      <td>555</td>\n",
       "      <td>28.0</td>\n",
       "      <td>5.5</td>\n",
       "    </tr>\n",
       "    <tr>\n",
       "      <th>3</th>\n",
       "      <td>2016</td>\n",
       "      <td>61948</td>\n",
       "      <td>Automatic</td>\n",
       "      <td>16000</td>\n",
       "      <td>325</td>\n",
       "      <td>30.4</td>\n",
       "      <td>4.0</td>\n",
       "    </tr>\n",
       "    <tr>\n",
       "      <th>4</th>\n",
       "      <td>2016</td>\n",
       "      <td>73948</td>\n",
       "      <td>Automatic</td>\n",
       "      <td>4000</td>\n",
       "      <td>325</td>\n",
       "      <td>30.1</td>\n",
       "      <td>4.0</td>\n",
       "    </tr>\n",
       "  </tbody>\n",
       "</table>\n",
       "</div>"
      ],
      "text/plain": [
       "   year  price transmission  mileage  tax   mpg  engineSize\n",
       "0  2005   5200    Automatic    63000  325  32.1         1.8\n",
       "1  2017  34948    Automatic    27000   20  61.4         2.1\n",
       "2  2016  49948    Automatic     6200  555  28.0         5.5\n",
       "3  2016  61948    Automatic    16000  325  30.4         4.0\n",
       "4  2016  73948    Automatic     4000  325  30.1         4.0"
      ]
     },
     "execution_count": 4,
     "metadata": {},
     "output_type": "execute_result"
    }
   ],
   "source": [
    "dataFrame.head()"
   ]
  },
  {
   "cell_type": "markdown",
   "metadata": {},
   "source": [
    "# Analysis of dataset"
   ]
  },
  {
   "cell_type": "code",
   "execution_count": 6,
   "metadata": {},
   "outputs": [
    {
     "data": {
      "text/html": [
       "<div>\n",
       "<style scoped>\n",
       "    .dataframe tbody tr th:only-of-type {\n",
       "        vertical-align: middle;\n",
       "    }\n",
       "\n",
       "    .dataframe tbody tr th {\n",
       "        vertical-align: top;\n",
       "    }\n",
       "\n",
       "    .dataframe thead th {\n",
       "        text-align: right;\n",
       "    }\n",
       "</style>\n",
       "<table border=\"1\" class=\"dataframe\">\n",
       "  <thead>\n",
       "    <tr style=\"text-align: right;\">\n",
       "      <th></th>\n",
       "      <th>year</th>\n",
       "      <th>price</th>\n",
       "      <th>mileage</th>\n",
       "      <th>tax</th>\n",
       "      <th>mpg</th>\n",
       "      <th>engineSize</th>\n",
       "    </tr>\n",
       "  </thead>\n",
       "  <tbody>\n",
       "    <tr>\n",
       "      <th>count</th>\n",
       "      <td>13119.000000</td>\n",
       "      <td>13119.000000</td>\n",
       "      <td>13119.000000</td>\n",
       "      <td>13119.000000</td>\n",
       "      <td>13119.000000</td>\n",
       "      <td>13119.000000</td>\n",
       "    </tr>\n",
       "    <tr>\n",
       "      <th>mean</th>\n",
       "      <td>2017.296288</td>\n",
       "      <td>24698.596920</td>\n",
       "      <td>21949.559037</td>\n",
       "      <td>129.972178</td>\n",
       "      <td>55.155843</td>\n",
       "      <td>2.071530</td>\n",
       "    </tr>\n",
       "    <tr>\n",
       "      <th>std</th>\n",
       "      <td>2.224709</td>\n",
       "      <td>11842.675542</td>\n",
       "      <td>21176.512267</td>\n",
       "      <td>65.260286</td>\n",
       "      <td>15.220082</td>\n",
       "      <td>0.572426</td>\n",
       "    </tr>\n",
       "    <tr>\n",
       "      <th>min</th>\n",
       "      <td>1970.000000</td>\n",
       "      <td>650.000000</td>\n",
       "      <td>1.000000</td>\n",
       "      <td>0.000000</td>\n",
       "      <td>1.100000</td>\n",
       "      <td>0.000000</td>\n",
       "    </tr>\n",
       "    <tr>\n",
       "      <th>25%</th>\n",
       "      <td>2016.000000</td>\n",
       "      <td>17450.000000</td>\n",
       "      <td>6097.500000</td>\n",
       "      <td>125.000000</td>\n",
       "      <td>45.600000</td>\n",
       "      <td>1.800000</td>\n",
       "    </tr>\n",
       "    <tr>\n",
       "      <th>50%</th>\n",
       "      <td>2018.000000</td>\n",
       "      <td>22480.000000</td>\n",
       "      <td>15189.000000</td>\n",
       "      <td>145.000000</td>\n",
       "      <td>56.500000</td>\n",
       "      <td>2.000000</td>\n",
       "    </tr>\n",
       "    <tr>\n",
       "      <th>75%</th>\n",
       "      <td>2019.000000</td>\n",
       "      <td>28980.000000</td>\n",
       "      <td>31779.500000</td>\n",
       "      <td>145.000000</td>\n",
       "      <td>64.200000</td>\n",
       "      <td>2.100000</td>\n",
       "    </tr>\n",
       "    <tr>\n",
       "      <th>max</th>\n",
       "      <td>2020.000000</td>\n",
       "      <td>159999.000000</td>\n",
       "      <td>259000.000000</td>\n",
       "      <td>580.000000</td>\n",
       "      <td>217.300000</td>\n",
       "      <td>6.200000</td>\n",
       "    </tr>\n",
       "  </tbody>\n",
       "</table>\n",
       "</div>"
      ],
      "text/plain": [
       "               year          price        mileage           tax           mpg  \\\n",
       "count  13119.000000   13119.000000   13119.000000  13119.000000  13119.000000   \n",
       "mean    2017.296288   24698.596920   21949.559037    129.972178     55.155843   \n",
       "std        2.224709   11842.675542   21176.512267     65.260286     15.220082   \n",
       "min     1970.000000     650.000000       1.000000      0.000000      1.100000   \n",
       "25%     2016.000000   17450.000000    6097.500000    125.000000     45.600000   \n",
       "50%     2018.000000   22480.000000   15189.000000    145.000000     56.500000   \n",
       "75%     2019.000000   28980.000000   31779.500000    145.000000     64.200000   \n",
       "max     2020.000000  159999.000000  259000.000000    580.000000    217.300000   \n",
       "\n",
       "         engineSize  \n",
       "count  13119.000000  \n",
       "mean       2.071530  \n",
       "std        0.572426  \n",
       "min        0.000000  \n",
       "25%        1.800000  \n",
       "50%        2.000000  \n",
       "75%        2.100000  \n",
       "max        6.200000  "
      ]
     },
     "execution_count": 6,
     "metadata": {},
     "output_type": "execute_result"
    }
   ],
   "source": [
    "dataFrame.describe()"
   ]
  },
  {
   "cell_type": "code",
   "execution_count": 9,
   "metadata": {},
   "outputs": [
    {
     "data": {
      "text/plain": [
       "year            0\n",
       "price           0\n",
       "transmission    0\n",
       "mileage         0\n",
       "tax             0\n",
       "mpg             0\n",
       "engineSize      0\n",
       "dtype: int64"
      ]
     },
     "execution_count": 9,
     "metadata": {},
     "output_type": "execute_result"
    }
   ],
   "source": [
    "dataFrame.isnull().sum()   # there ara no null data "
   ]
  },
  {
   "cell_type": "code",
   "execution_count": 33,
   "metadata": {},
   "outputs": [
    {
     "name": "stderr",
     "output_type": "stream",
     "text": [
      "c:\\users\\huzeyfe\\appdata\\local\\programs\\python\\python38\\lib\\site-packages\\seaborn\\distributions.py:2551: FutureWarning: `distplot` is a deprecated function and will be removed in a future version. Please adapt your code to use either `displot` (a figure-level function with similar flexibility) or `histplot` (an axes-level function for histograms).\n",
      "  warnings.warn(msg, FutureWarning)\n"
     ]
    },
    {
     "data": {
      "text/plain": [
       "<AxesSubplot:xlabel='price', ylabel='Density'>"
      ]
     },
     "execution_count": 33,
     "metadata": {},
     "output_type": "execute_result"
    },
    {
     "data": {
      "image/png": "[encoded data removed]",
      "text/plain": [
       "<Figure size 720x576 with 1 Axes>"
      ]
     },
     "metadata": {
      "needs_background": "light"
     },
     "output_type": "display_data"
    }
   ],
   "source": [
    "plt.figure(figsize=(10,8))\n",
    "sbn.distplot(dataFrame[\"price\"])"
   ]
  },
  {
   "cell_type": "code",
   "execution_count": 40,
   "metadata": {},
   "outputs": [
    {
     "name": "stderr",
     "output_type": "stream",
     "text": [
      "c:\\users\\huzeyfe\\appdata\\local\\programs\\python\\python38\\lib\\site-packages\\seaborn\\_decorators.py:36: FutureWarning: Pass the following variable as a keyword arg: x. From version 0.12, the only valid positional argument will be `data`, and passing other arguments without an explicit keyword will result in an error or misinterpretation.\n",
      "  warnings.warn(\n"
     ]
    },
    {
     "data": {
      "text/plain": [
       "<AxesSubplot:xlabel='year', ylabel='count'>"
      ]
     },
     "execution_count": 40,
     "metadata": {},
     "output_type": "execute_result"
    },
    {
     "data": {
      "image/png": "[encoded data removed]",
      "text/plain": [
       "<Figure size 1080x504 with 1 Axes>"
      ]
     },
     "metadata": {
      "needs_background": "light"
     },
     "output_type": "display_data"
    }
   ],
   "source": [
    "plt.figure(figsize=(15,7))\n",
    "sbn.countplot(dataFrame[\"year\"])"
   ]
  },
  {
   "cell_type": "code",
   "execution_count": 43,
   "metadata": {},
   "outputs": [
    {
     "data": {
      "text/html": [
       "<div>\n",
       "<style scoped>\n",
       "    .dataframe tbody tr th:only-of-type {\n",
       "        vertical-align: middle;\n",
       "    }\n",
       "\n",
       "    .dataframe tbody tr th {\n",
       "        vertical-align: top;\n",
       "    }\n",
       "\n",
       "    .dataframe thead th {\n",
       "        text-align: right;\n",
       "    }\n",
       "</style>\n",
       "<table border=\"1\" class=\"dataframe\">\n",
       "  <thead>\n",
       "    <tr style=\"text-align: right;\">\n",
       "      <th></th>\n",
       "      <th>year</th>\n",
       "      <th>price</th>\n",
       "      <th>mileage</th>\n",
       "      <th>tax</th>\n",
       "      <th>mpg</th>\n",
       "      <th>engineSize</th>\n",
       "    </tr>\n",
       "  </thead>\n",
       "  <tbody>\n",
       "    <tr>\n",
       "      <th>year</th>\n",
       "      <td>1.000000</td>\n",
       "      <td>0.520712</td>\n",
       "      <td>-0.738027</td>\n",
       "      <td>0.012480</td>\n",
       "      <td>-0.094626</td>\n",
       "      <td>-0.142147</td>\n",
       "    </tr>\n",
       "    <tr>\n",
       "      <th>price</th>\n",
       "      <td>0.520712</td>\n",
       "      <td>1.000000</td>\n",
       "      <td>-0.537214</td>\n",
       "      <td>0.268717</td>\n",
       "      <td>-0.438445</td>\n",
       "      <td>0.516126</td>\n",
       "    </tr>\n",
       "    <tr>\n",
       "      <th>mileage</th>\n",
       "      <td>-0.738027</td>\n",
       "      <td>-0.537214</td>\n",
       "      <td>1.000000</td>\n",
       "      <td>-0.160223</td>\n",
       "      <td>0.202850</td>\n",
       "      <td>0.063652</td>\n",
       "    </tr>\n",
       "    <tr>\n",
       "      <th>tax</th>\n",
       "      <td>0.012480</td>\n",
       "      <td>0.268717</td>\n",
       "      <td>-0.160223</td>\n",
       "      <td>1.000000</td>\n",
       "      <td>-0.513742</td>\n",
       "      <td>0.338341</td>\n",
       "    </tr>\n",
       "    <tr>\n",
       "      <th>mpg</th>\n",
       "      <td>-0.094626</td>\n",
       "      <td>-0.438445</td>\n",
       "      <td>0.202850</td>\n",
       "      <td>-0.513742</td>\n",
       "      <td>1.000000</td>\n",
       "      <td>-0.339862</td>\n",
       "    </tr>\n",
       "    <tr>\n",
       "      <th>engineSize</th>\n",
       "      <td>-0.142147</td>\n",
       "      <td>0.516126</td>\n",
       "      <td>0.063652</td>\n",
       "      <td>0.338341</td>\n",
       "      <td>-0.339862</td>\n",
       "      <td>1.000000</td>\n",
       "    </tr>\n",
       "  </tbody>\n",
       "</table>\n",
       "</div>"
      ],
      "text/plain": [
       "                year     price   mileage       tax       mpg  engineSize\n",
       "year        1.000000  0.520712 -0.738027  0.012480 -0.094626   -0.142147\n",
       "price       0.520712  1.000000 -0.537214  0.268717 -0.438445    0.516126\n",
       "mileage    -0.738027 -0.537214  1.000000 -0.160223  0.202850    0.063652\n",
       "tax         0.012480  0.268717 -0.160223  1.000000 -0.513742    0.338341\n",
       "mpg        -0.094626 -0.438445  0.202850 -0.513742  1.000000   -0.339862\n",
       "engineSize -0.142147  0.516126  0.063652  0.338341 -0.339862    1.000000"
      ]
     },
     "execution_count": 43,
     "metadata": {},
     "output_type": "execute_result"
    }
   ],
   "source": [
    "dataFrame.corr()  #correlation "
   ]
  },
  {
   "cell_type": "code",
   "execution_count": 46,
   "metadata": {},
   "outputs": [
    {
     "data": {
      "text/plain": [
       "mileage      -0.537214\n",
       "mpg          -0.438445\n",
       "tax           0.268717\n",
       "engineSize    0.516126\n",
       "year          0.520712\n",
       "price         1.000000\n",
       "Name: price, dtype: float64"
      ]
     },
     "execution_count": 46,
     "metadata": {},
     "output_type": "execute_result"
    }
   ],
   "source": [
    "dataFrame.corr()[\"price\"].sort_values()\n",
    "# effect of attiributes on price"
   ]
  },
  {
   "cell_type": "code",
   "execution_count": 47,
   "metadata": {},
   "outputs": [
    {
     "data": {
      "text/plain": [
       "<AxesSubplot:xlabel='mileage', ylabel='price'>"
      ]
     },
     "execution_count": 47,
     "metadata": {},
     "output_type": "execute_result"
    },
    {
     "data": {
      "image/png": "[encoded data removed]",
      "text/plain": [
       "<Figure size 432x288 with 1 Axes>"
      ]
     },
     "metadata": {
      "needs_background": "light"
     },
     "output_type": "display_data"
    }
   ],
   "source": [
    "sbn.scatterplot(x=\"mileage\",y=\"price\",data=dataFrame)"
   ]
  },
  {
   "cell_type": "code",
   "execution_count": 50,
   "metadata": {},
   "outputs": [
    {
     "data": {
      "text/html": [
       "<div>\n",
       "<style scoped>\n",
       "    .dataframe tbody tr th:only-of-type {\n",
       "        vertical-align: middle;\n",
       "    }\n",
       "\n",
       "    .dataframe tbody tr th {\n",
       "        vertical-align: top;\n",
       "    }\n",
       "\n",
       "    .dataframe thead th {\n",
       "        text-align: right;\n",
       "    }\n",
       "</style>\n",
       "<table border=\"1\" class=\"dataframe\">\n",
       "  <thead>\n",
       "    <tr style=\"text-align: right;\">\n",
       "      <th></th>\n",
       "      <th>year</th>\n",
       "      <th>price</th>\n",
       "      <th>transmission</th>\n",
       "      <th>mileage</th>\n",
       "      <th>tax</th>\n",
       "      <th>mpg</th>\n",
       "      <th>engineSize</th>\n",
       "    </tr>\n",
       "  </thead>\n",
       "  <tbody>\n",
       "    <tr>\n",
       "      <th>6199</th>\n",
       "      <td>2020</td>\n",
       "      <td>159999</td>\n",
       "      <td>Semi-Auto</td>\n",
       "      <td>1350</td>\n",
       "      <td>145</td>\n",
       "      <td>21.4</td>\n",
       "      <td>4.0</td>\n",
       "    </tr>\n",
       "    <tr>\n",
       "      <th>10044</th>\n",
       "      <td>2020</td>\n",
       "      <td>154998</td>\n",
       "      <td>Automatic</td>\n",
       "      <td>3000</td>\n",
       "      <td>150</td>\n",
       "      <td>21.4</td>\n",
       "      <td>4.0</td>\n",
       "    </tr>\n",
       "    <tr>\n",
       "      <th>5</th>\n",
       "      <td>2011</td>\n",
       "      <td>149948</td>\n",
       "      <td>Automatic</td>\n",
       "      <td>3000</td>\n",
       "      <td>570</td>\n",
       "      <td>21.4</td>\n",
       "      <td>6.2</td>\n",
       "    </tr>\n",
       "    <tr>\n",
       "      <th>8737</th>\n",
       "      <td>2019</td>\n",
       "      <td>140319</td>\n",
       "      <td>Semi-Auto</td>\n",
       "      <td>785</td>\n",
       "      <td>150</td>\n",
       "      <td>22.1</td>\n",
       "      <td>4.0</td>\n",
       "    </tr>\n",
       "    <tr>\n",
       "      <th>6386</th>\n",
       "      <td>2018</td>\n",
       "      <td>139995</td>\n",
       "      <td>Semi-Auto</td>\n",
       "      <td>13046</td>\n",
       "      <td>145</td>\n",
       "      <td>21.4</td>\n",
       "      <td>4.0</td>\n",
       "    </tr>\n",
       "    <tr>\n",
       "      <th>8</th>\n",
       "      <td>2019</td>\n",
       "      <td>139948</td>\n",
       "      <td>Automatic</td>\n",
       "      <td>12000</td>\n",
       "      <td>145</td>\n",
       "      <td>21.4</td>\n",
       "      <td>4.0</td>\n",
       "    </tr>\n",
       "    <tr>\n",
       "      <th>9133</th>\n",
       "      <td>2019</td>\n",
       "      <td>139559</td>\n",
       "      <td>Semi-Auto</td>\n",
       "      <td>1000</td>\n",
       "      <td>145</td>\n",
       "      <td>22.1</td>\n",
       "      <td>4.0</td>\n",
       "    </tr>\n",
       "    <tr>\n",
       "      <th>8821</th>\n",
       "      <td>2020</td>\n",
       "      <td>138439</td>\n",
       "      <td>Semi-Auto</td>\n",
       "      <td>1000</td>\n",
       "      <td>145</td>\n",
       "      <td>22.1</td>\n",
       "      <td>4.0</td>\n",
       "    </tr>\n",
       "    <tr>\n",
       "      <th>5902</th>\n",
       "      <td>2018</td>\n",
       "      <td>135771</td>\n",
       "      <td>Semi-Auto</td>\n",
       "      <td>19000</td>\n",
       "      <td>145</td>\n",
       "      <td>21.4</td>\n",
       "      <td>4.0</td>\n",
       "    </tr>\n",
       "    <tr>\n",
       "      <th>7864</th>\n",
       "      <td>2018</td>\n",
       "      <td>135124</td>\n",
       "      <td>Semi-Auto</td>\n",
       "      <td>18234</td>\n",
       "      <td>150</td>\n",
       "      <td>21.4</td>\n",
       "      <td>4.0</td>\n",
       "    </tr>\n",
       "    <tr>\n",
       "      <th>8673</th>\n",
       "      <td>2019</td>\n",
       "      <td>134219</td>\n",
       "      <td>Semi-Auto</td>\n",
       "      <td>1000</td>\n",
       "      <td>145</td>\n",
       "      <td>24.8</td>\n",
       "      <td>4.0</td>\n",
       "    </tr>\n",
       "    <tr>\n",
       "      <th>6210</th>\n",
       "      <td>2019</td>\n",
       "      <td>129990</td>\n",
       "      <td>Automatic</td>\n",
       "      <td>1000</td>\n",
       "      <td>145</td>\n",
       "      <td>24.8</td>\n",
       "      <td>4.0</td>\n",
       "    </tr>\n",
       "    <tr>\n",
       "      <th>4759</th>\n",
       "      <td>2019</td>\n",
       "      <td>126000</td>\n",
       "      <td>Automatic</td>\n",
       "      <td>250</td>\n",
       "      <td>145</td>\n",
       "      <td>24.6</td>\n",
       "      <td>4.0</td>\n",
       "    </tr>\n",
       "    <tr>\n",
       "      <th>2647</th>\n",
       "      <td>2019</td>\n",
       "      <td>125796</td>\n",
       "      <td>Automatic</td>\n",
       "      <td>637</td>\n",
       "      <td>145</td>\n",
       "      <td>24.8</td>\n",
       "      <td>4.0</td>\n",
       "    </tr>\n",
       "    <tr>\n",
       "      <th>6223</th>\n",
       "      <td>2019</td>\n",
       "      <td>124999</td>\n",
       "      <td>Automatic</td>\n",
       "      <td>1500</td>\n",
       "      <td>145</td>\n",
       "      <td>31.7</td>\n",
       "      <td>4.0</td>\n",
       "    </tr>\n",
       "    <tr>\n",
       "      <th>4094</th>\n",
       "      <td>2019</td>\n",
       "      <td>124366</td>\n",
       "      <td>Semi-Auto</td>\n",
       "      <td>880</td>\n",
       "      <td>145</td>\n",
       "      <td>24.8</td>\n",
       "      <td>4.0</td>\n",
       "    </tr>\n",
       "    <tr>\n",
       "      <th>2629</th>\n",
       "      <td>2019</td>\n",
       "      <td>123846</td>\n",
       "      <td>Semi-Auto</td>\n",
       "      <td>2951</td>\n",
       "      <td>145</td>\n",
       "      <td>22.1</td>\n",
       "      <td>4.0</td>\n",
       "    </tr>\n",
       "    <tr>\n",
       "      <th>7134</th>\n",
       "      <td>2019</td>\n",
       "      <td>115359</td>\n",
       "      <td>Semi-Auto</td>\n",
       "      <td>1000</td>\n",
       "      <td>145</td>\n",
       "      <td>30.1</td>\n",
       "      <td>4.0</td>\n",
       "    </tr>\n",
       "    <tr>\n",
       "      <th>9159</th>\n",
       "      <td>2019</td>\n",
       "      <td>114199</td>\n",
       "      <td>Semi-Auto</td>\n",
       "      <td>891</td>\n",
       "      <td>145</td>\n",
       "      <td>22.6</td>\n",
       "      <td>4.0</td>\n",
       "    </tr>\n",
       "    <tr>\n",
       "      <th>1980</th>\n",
       "      <td>2019</td>\n",
       "      <td>109995</td>\n",
       "      <td>Semi-Auto</td>\n",
       "      <td>4688</td>\n",
       "      <td>150</td>\n",
       "      <td>31.7</td>\n",
       "      <td>4.0</td>\n",
       "    </tr>\n",
       "  </tbody>\n",
       "</table>\n",
       "</div>"
      ],
      "text/plain": [
       "       year   price transmission  mileage  tax   mpg  engineSize\n",
       "6199   2020  159999    Semi-Auto     1350  145  21.4         4.0\n",
       "10044  2020  154998    Automatic     3000  150  21.4         4.0\n",
       "5      2011  149948    Automatic     3000  570  21.4         6.2\n",
       "8737   2019  140319    Semi-Auto      785  150  22.1         4.0\n",
       "6386   2018  139995    Semi-Auto    13046  145  21.4         4.0\n",
       "8      2019  139948    Automatic    12000  145  21.4         4.0\n",
       "9133   2019  139559    Semi-Auto     1000  145  22.1         4.0\n",
       "8821   2020  138439    Semi-Auto     1000  145  22.1         4.0\n",
       "5902   2018  135771    Semi-Auto    19000  145  21.4         4.0\n",
       "7864   2018  135124    Semi-Auto    18234  150  21.4         4.0\n",
       "8673   2019  134219    Semi-Auto     1000  145  24.8         4.0\n",
       "6210   2019  129990    Automatic     1000  145  24.8         4.0\n",
       "4759   2019  126000    Automatic      250  145  24.6         4.0\n",
       "2647   2019  125796    Automatic      637  145  24.8         4.0\n",
       "6223   2019  124999    Automatic     1500  145  31.7         4.0\n",
       "4094   2019  124366    Semi-Auto      880  145  24.8         4.0\n",
       "2629   2019  123846    Semi-Auto     2951  145  22.1         4.0\n",
       "7134   2019  115359    Semi-Auto     1000  145  30.1         4.0\n",
       "9159   2019  114199    Semi-Auto      891  145  22.6         4.0\n",
       "1980   2019  109995    Semi-Auto     4688  150  31.7         4.0"
      ]
     },
     "execution_count": 50,
     "metadata": {},
     "output_type": "execute_result"
    }
   ],
   "source": [
    "dataFrame.sort_values(\"price\",ascending= False).head(20)"
   ]
  },
  {
   "cell_type": "code",
   "execution_count": 51,
   "metadata": {},
   "outputs": [
    {
     "data": {
      "text/html": [
       "<div>\n",
       "<style scoped>\n",
       "    .dataframe tbody tr th:only-of-type {\n",
       "        vertical-align: middle;\n",
       "    }\n",
       "\n",
       "    .dataframe tbody tr th {\n",
       "        vertical-align: top;\n",
       "    }\n",
       "\n",
       "    .dataframe thead th {\n",
       "        text-align: right;\n",
       "    }\n",
       "</style>\n",
       "<table border=\"1\" class=\"dataframe\">\n",
       "  <thead>\n",
       "    <tr style=\"text-align: right;\">\n",
       "      <th></th>\n",
       "      <th>year</th>\n",
       "      <th>price</th>\n",
       "      <th>transmission</th>\n",
       "      <th>mileage</th>\n",
       "      <th>tax</th>\n",
       "      <th>mpg</th>\n",
       "      <th>engineSize</th>\n",
       "    </tr>\n",
       "  </thead>\n",
       "  <tbody>\n",
       "    <tr>\n",
       "      <th>11816</th>\n",
       "      <td>2003</td>\n",
       "      <td>650</td>\n",
       "      <td>Manual</td>\n",
       "      <td>109090</td>\n",
       "      <td>235</td>\n",
       "      <td>40.0</td>\n",
       "      <td>1.4</td>\n",
       "    </tr>\n",
       "    <tr>\n",
       "      <th>12008</th>\n",
       "      <td>2010</td>\n",
       "      <td>1350</td>\n",
       "      <td>Manual</td>\n",
       "      <td>116126</td>\n",
       "      <td>145</td>\n",
       "      <td>54.3</td>\n",
       "      <td>2.0</td>\n",
       "    </tr>\n",
       "    <tr>\n",
       "      <th>11765</th>\n",
       "      <td>2000</td>\n",
       "      <td>1490</td>\n",
       "      <td>Automatic</td>\n",
       "      <td>87000</td>\n",
       "      <td>265</td>\n",
       "      <td>27.2</td>\n",
       "      <td>3.2</td>\n",
       "    </tr>\n",
       "    <tr>\n",
       "      <th>11549</th>\n",
       "      <td>2002</td>\n",
       "      <td>1495</td>\n",
       "      <td>Automatic</td>\n",
       "      <td>13800</td>\n",
       "      <td>305</td>\n",
       "      <td>39.8</td>\n",
       "      <td>2.7</td>\n",
       "    </tr>\n",
       "    <tr>\n",
       "      <th>12594</th>\n",
       "      <td>2004</td>\n",
       "      <td>1495</td>\n",
       "      <td>Manual</td>\n",
       "      <td>119000</td>\n",
       "      <td>300</td>\n",
       "      <td>34.5</td>\n",
       "      <td>1.8</td>\n",
       "    </tr>\n",
       "    <tr>\n",
       "      <th>11174</th>\n",
       "      <td>2001</td>\n",
       "      <td>1695</td>\n",
       "      <td>Automatic</td>\n",
       "      <td>108800</td>\n",
       "      <td>325</td>\n",
       "      <td>31.7</td>\n",
       "      <td>3.2</td>\n",
       "    </tr>\n",
       "    <tr>\n",
       "      <th>12710</th>\n",
       "      <td>2006</td>\n",
       "      <td>1695</td>\n",
       "      <td>Automatic</td>\n",
       "      <td>153000</td>\n",
       "      <td>300</td>\n",
       "      <td>33.6</td>\n",
       "      <td>1.8</td>\n",
       "    </tr>\n",
       "    <tr>\n",
       "      <th>12766</th>\n",
       "      <td>2004</td>\n",
       "      <td>1780</td>\n",
       "      <td>Automatic</td>\n",
       "      <td>118000</td>\n",
       "      <td>265</td>\n",
       "      <td>41.5</td>\n",
       "      <td>2.2</td>\n",
       "    </tr>\n",
       "    <tr>\n",
       "      <th>12009</th>\n",
       "      <td>2007</td>\n",
       "      <td>1800</td>\n",
       "      <td>Automatic</td>\n",
       "      <td>84000</td>\n",
       "      <td>200</td>\n",
       "      <td>42.8</td>\n",
       "      <td>1.5</td>\n",
       "    </tr>\n",
       "    <tr>\n",
       "      <th>11764</th>\n",
       "      <td>1998</td>\n",
       "      <td>1990</td>\n",
       "      <td>Automatic</td>\n",
       "      <td>99300</td>\n",
       "      <td>265</td>\n",
       "      <td>32.1</td>\n",
       "      <td>2.3</td>\n",
       "    </tr>\n",
       "    <tr>\n",
       "      <th>11808</th>\n",
       "      <td>1998</td>\n",
       "      <td>1990</td>\n",
       "      <td>Automatic</td>\n",
       "      <td>113557</td>\n",
       "      <td>265</td>\n",
       "      <td>32.1</td>\n",
       "      <td>2.3</td>\n",
       "    </tr>\n",
       "    <tr>\n",
       "      <th>11383</th>\n",
       "      <td>2005</td>\n",
       "      <td>1995</td>\n",
       "      <td>Automatic</td>\n",
       "      <td>105000</td>\n",
       "      <td>260</td>\n",
       "      <td>43.5</td>\n",
       "      <td>2.1</td>\n",
       "    </tr>\n",
       "    <tr>\n",
       "      <th>11378</th>\n",
       "      <td>2004</td>\n",
       "      <td>1995</td>\n",
       "      <td>Semi-Auto</td>\n",
       "      <td>165000</td>\n",
       "      <td>330</td>\n",
       "      <td>20.0</td>\n",
       "      <td>3.7</td>\n",
       "    </tr>\n",
       "    <tr>\n",
       "      <th>11857</th>\n",
       "      <td>2002</td>\n",
       "      <td>2140</td>\n",
       "      <td>Automatic</td>\n",
       "      <td>52700</td>\n",
       "      <td>325</td>\n",
       "      <td>31.4</td>\n",
       "      <td>2.0</td>\n",
       "    </tr>\n",
       "    <tr>\n",
       "      <th>11906</th>\n",
       "      <td>2007</td>\n",
       "      <td>2478</td>\n",
       "      <td>Automatic</td>\n",
       "      <td>81000</td>\n",
       "      <td>160</td>\n",
       "      <td>49.6</td>\n",
       "      <td>2.0</td>\n",
       "    </tr>\n",
       "    <tr>\n",
       "      <th>11795</th>\n",
       "      <td>2005</td>\n",
       "      <td>2490</td>\n",
       "      <td>Automatic</td>\n",
       "      <td>101980</td>\n",
       "      <td>200</td>\n",
       "      <td>47.9</td>\n",
       "      <td>2.0</td>\n",
       "    </tr>\n",
       "    <tr>\n",
       "      <th>12765</th>\n",
       "      <td>2004</td>\n",
       "      <td>2495</td>\n",
       "      <td>Automatic</td>\n",
       "      <td>104000</td>\n",
       "      <td>325</td>\n",
       "      <td>31.7</td>\n",
       "      <td>1.8</td>\n",
       "    </tr>\n",
       "    <tr>\n",
       "      <th>11943</th>\n",
       "      <td>2005</td>\n",
       "      <td>2690</td>\n",
       "      <td>Automatic</td>\n",
       "      <td>109000</td>\n",
       "      <td>325</td>\n",
       "      <td>32.1</td>\n",
       "      <td>1.8</td>\n",
       "    </tr>\n",
       "    <tr>\n",
       "      <th>11263</th>\n",
       "      <td>2007</td>\n",
       "      <td>2795</td>\n",
       "      <td>Manual</td>\n",
       "      <td>79485</td>\n",
       "      <td>200</td>\n",
       "      <td>45.6</td>\n",
       "      <td>1.5</td>\n",
       "    </tr>\n",
       "    <tr>\n",
       "      <th>49</th>\n",
       "      <td>2006</td>\n",
       "      <td>2880</td>\n",
       "      <td>Automatic</td>\n",
       "      <td>66000</td>\n",
       "      <td>160</td>\n",
       "      <td>52.3</td>\n",
       "      <td>2.0</td>\n",
       "    </tr>\n",
       "  </tbody>\n",
       "</table>\n",
       "</div>"
      ],
      "text/plain": [
       "       year  price transmission  mileage  tax   mpg  engineSize\n",
       "11816  2003    650       Manual   109090  235  40.0         1.4\n",
       "12008  2010   1350       Manual   116126  145  54.3         2.0\n",
       "11765  2000   1490    Automatic    87000  265  27.2         3.2\n",
       "11549  2002   1495    Automatic    13800  305  39.8         2.7\n",
       "12594  2004   1495       Manual   119000  300  34.5         1.8\n",
       "11174  2001   1695    Automatic   108800  325  31.7         3.2\n",
       "12710  2006   1695    Automatic   153000  300  33.6         1.8\n",
       "12766  2004   1780    Automatic   118000  265  41.5         2.2\n",
       "12009  2007   1800    Automatic    84000  200  42.8         1.5\n",
       "11764  1998   1990    Automatic    99300  265  32.1         2.3\n",
       "11808  1998   1990    Automatic   113557  265  32.1         2.3\n",
       "11383  2005   1995    Automatic   105000  260  43.5         2.1\n",
       "11378  2004   1995    Semi-Auto   165000  330  20.0         3.7\n",
       "11857  2002   2140    Automatic    52700  325  31.4         2.0\n",
       "11906  2007   2478    Automatic    81000  160  49.6         2.0\n",
       "11795  2005   2490    Automatic   101980  200  47.9         2.0\n",
       "12765  2004   2495    Automatic   104000  325  31.7         1.8\n",
       "11943  2005   2690    Automatic   109000  325  32.1         1.8\n",
       "11263  2007   2795       Manual    79485  200  45.6         1.5\n",
       "49     2006   2880    Automatic    66000  160  52.3         2.0"
      ]
     },
     "execution_count": 51,
     "metadata": {},
     "output_type": "execute_result"
    }
   ],
   "source": [
    "dataFrame.sort_values(\"price\",ascending= True).head(20)"
   ]
  },
  {
   "cell_type": "code",
   "execution_count": 52,
   "metadata": {},
   "outputs": [
    {
     "data": {
      "text/plain": [
       "13119"
      ]
     },
     "execution_count": 52,
     "metadata": {},
     "output_type": "execute_result"
    }
   ],
   "source": [
    "len(dataFrame)"
   ]
  },
  {
   "cell_type": "code",
   "execution_count": 53,
   "metadata": {},
   "outputs": [
    {
     "data": {
      "text/plain": [
       "131.19"
      ]
     },
     "execution_count": 53,
     "metadata": {},
     "output_type": "execute_result"
    }
   ],
   "source": [
    "len(dataFrame) * 0.01  \n",
    "#if deletes 1% of data in dataset it dont change\n",
    "#And we have very expensive car  that few in number\n",
    "# So we can delete 131 most expensive cars in dataset in dont change our model\n",
    "# This is a approch, not mandatory"
   ]
  },
  {
   "cell_type": "markdown",
   "metadata": {},
   "source": [
    "# Data Cleaning"
   ]
  },
  {
   "cell_type": "code",
   "execution_count": 56,
   "metadata": {},
   "outputs": [],
   "source": [
    "clean_df = dataFrame.sort_values(\"price\",ascending= False).iloc[131:]"
   ]
  },
  {
   "cell_type": "code",
   "execution_count": 57,
   "metadata": {},
   "outputs": [
    {
     "data": {
      "text/html": [
       "<div>\n",
       "<style scoped>\n",
       "    .dataframe tbody tr th:only-of-type {\n",
       "        vertical-align: middle;\n",
       "    }\n",
       "\n",
       "    .dataframe tbody tr th {\n",
       "        vertical-align: top;\n",
       "    }\n",
       "\n",
       "    .dataframe thead th {\n",
       "        text-align: right;\n",
       "    }\n",
       "</style>\n",
       "<table border=\"1\" class=\"dataframe\">\n",
       "  <thead>\n",
       "    <tr style=\"text-align: right;\">\n",
       "      <th></th>\n",
       "      <th>year</th>\n",
       "      <th>price</th>\n",
       "      <th>mileage</th>\n",
       "      <th>tax</th>\n",
       "      <th>mpg</th>\n",
       "      <th>engineSize</th>\n",
       "    </tr>\n",
       "  </thead>\n",
       "  <tbody>\n",
       "    <tr>\n",
       "      <th>count</th>\n",
       "      <td>12988.000000</td>\n",
       "      <td>12988.000000</td>\n",
       "      <td>12988.000000</td>\n",
       "      <td>12988.000000</td>\n",
       "      <td>12988.000000</td>\n",
       "      <td>12988.000000</td>\n",
       "    </tr>\n",
       "    <tr>\n",
       "      <th>mean</th>\n",
       "      <td>2017.281876</td>\n",
       "      <td>24074.926933</td>\n",
       "      <td>22132.741146</td>\n",
       "      <td>129.689714</td>\n",
       "      <td>55.437142</td>\n",
       "      <td>2.050901</td>\n",
       "    </tr>\n",
       "    <tr>\n",
       "      <th>std</th>\n",
       "      <td>2.228515</td>\n",
       "      <td>9866.224575</td>\n",
       "      <td>21196.776401</td>\n",
       "      <td>65.183076</td>\n",
       "      <td>15.025999</td>\n",
       "      <td>0.532596</td>\n",
       "    </tr>\n",
       "    <tr>\n",
       "      <th>min</th>\n",
       "      <td>1970.000000</td>\n",
       "      <td>650.000000</td>\n",
       "      <td>1.000000</td>\n",
       "      <td>0.000000</td>\n",
       "      <td>1.100000</td>\n",
       "      <td>0.000000</td>\n",
       "    </tr>\n",
       "    <tr>\n",
       "      <th>25%</th>\n",
       "      <td>2016.000000</td>\n",
       "      <td>17357.500000</td>\n",
       "      <td>6322.000000</td>\n",
       "      <td>125.000000</td>\n",
       "      <td>45.600000</td>\n",
       "      <td>1.675000</td>\n",
       "    </tr>\n",
       "    <tr>\n",
       "      <th>50%</th>\n",
       "      <td>2018.000000</td>\n",
       "      <td>22299.000000</td>\n",
       "      <td>15369.500000</td>\n",
       "      <td>145.000000</td>\n",
       "      <td>56.500000</td>\n",
       "      <td>2.000000</td>\n",
       "    </tr>\n",
       "    <tr>\n",
       "      <th>75%</th>\n",
       "      <td>2019.000000</td>\n",
       "      <td>28706.000000</td>\n",
       "      <td>31982.250000</td>\n",
       "      <td>145.000000</td>\n",
       "      <td>64.200000</td>\n",
       "      <td>2.100000</td>\n",
       "    </tr>\n",
       "    <tr>\n",
       "      <th>max</th>\n",
       "      <td>2020.000000</td>\n",
       "      <td>65990.000000</td>\n",
       "      <td>259000.000000</td>\n",
       "      <td>580.000000</td>\n",
       "      <td>217.300000</td>\n",
       "      <td>6.200000</td>\n",
       "    </tr>\n",
       "  </tbody>\n",
       "</table>\n",
       "</div>"
      ],
      "text/plain": [
       "               year         price        mileage           tax           mpg  \\\n",
       "count  12988.000000  12988.000000   12988.000000  12988.000000  12988.000000   \n",
       "mean    2017.281876  24074.926933   22132.741146    129.689714     55.437142   \n",
       "std        2.228515   9866.224575   21196.776401     65.183076     15.025999   \n",
       "min     1970.000000    650.000000       1.000000      0.000000      1.100000   \n",
       "25%     2016.000000  17357.500000    6322.000000    125.000000     45.600000   \n",
       "50%     2018.000000  22299.000000   15369.500000    145.000000     56.500000   \n",
       "75%     2019.000000  28706.000000   31982.250000    145.000000     64.200000   \n",
       "max     2020.000000  65990.000000  259000.000000    580.000000    217.300000   \n",
       "\n",
       "         engineSize  \n",
       "count  12988.000000  \n",
       "mean       2.050901  \n",
       "std        0.532596  \n",
       "min        0.000000  \n",
       "25%        1.675000  \n",
       "50%        2.000000  \n",
       "75%        2.100000  \n",
       "max        6.200000  "
      ]
     },
     "execution_count": 57,
     "metadata": {},
     "output_type": "execute_result"
    }
   ],
   "source": [
    "clean_df.describe()"
   ]
  },
  {
   "cell_type": "code",
   "execution_count": 58,
   "metadata": {},
   "outputs": [
    {
     "name": "stderr",
     "output_type": "stream",
     "text": [
      "c:\\users\\huzeyfe\\appdata\\local\\programs\\python\\python38\\lib\\site-packages\\seaborn\\distributions.py:2551: FutureWarning: `distplot` is a deprecated function and will be removed in a future version. Please adapt your code to use either `displot` (a figure-level function with similar flexibility) or `histplot` (an axes-level function for histograms).\n",
      "  warnings.warn(msg, FutureWarning)\n"
     ]
    },
    {
     "data": {
      "text/plain": [
       "<AxesSubplot:xlabel='price', ylabel='Density'>"
      ]
     },
     "execution_count": 58,
     "metadata": {},
     "output_type": "execute_result"
    },
    {
     "data": {
      "image/png": "[encoded data removed]",
      "text/plain": [
       "<Figure size 720x576 with 1 Axes>"
      ]
     },
     "metadata": {
      "needs_background": "light"
     },
     "output_type": "display_data"
    }
   ],
   "source": [
    "plt.figure(figsize=(10,8))\n",
    "sbn.distplot(clean_df[\"price\"])"
   ]
  },
  {
   "cell_type": "code",
   "execution_count": 59,
   "metadata": {},
   "outputs": [
    {
     "data": {
      "text/plain": [
       "year\n",
       "1970    24999.000000\n",
       "1997     9995.000000\n",
       "1998     8605.000000\n",
       "1999     5995.000000\n",
       "2000     5743.333333\n",
       "2001     4957.900000\n",
       "2002     5820.444444\n",
       "2003     4878.000000\n",
       "2004     4727.615385\n",
       "2005     4426.111111\n",
       "2006     4036.875000\n",
       "2007     5136.045455\n",
       "2008     6967.437500\n",
       "2009     6166.764706\n",
       "2010     8308.473684\n",
       "2011    12624.894737\n",
       "2012    10845.140351\n",
       "2013    11939.842466\n",
       "2014    14042.936864\n",
       "2015    16731.780020\n",
       "2016    19307.892948\n",
       "2017    21514.307854\n",
       "2018    25720.162918\n",
       "2019    31290.020865\n",
       "2020    35433.282337\n",
       "Name: price, dtype: float64"
      ]
     },
     "execution_count": 59,
     "metadata": {},
     "output_type": "execute_result"
    }
   ],
   "source": [
    "dataFrame.groupby(\"year\").mean()[\"price\"]"
   ]
  },
  {
   "cell_type": "code",
   "execution_count": 60,
   "metadata": {},
   "outputs": [
    {
     "data": {
      "text/plain": [
       "year\n",
       "1970    24999.000000\n",
       "1997     9995.000000\n",
       "1998     8605.000000\n",
       "1999     5995.000000\n",
       "2000     5743.333333\n",
       "2001     4957.900000\n",
       "2002     5820.444444\n",
       "2003     4878.000000\n",
       "2004     4727.615385\n",
       "2005     4426.111111\n",
       "2006     4036.875000\n",
       "2007     5136.045455\n",
       "2008     6967.437500\n",
       "2009     6166.764706\n",
       "2010     8308.473684\n",
       "2011     8913.459459\n",
       "2012    10845.140351\n",
       "2013    11939.842466\n",
       "2014    14042.936864\n",
       "2015    16647.822222\n",
       "2016    19223.558943\n",
       "2017    21356.280421\n",
       "2018    24800.844506\n",
       "2019    30289.524832\n",
       "2020    34234.794872\n",
       "Name: price, dtype: float64"
      ]
     },
     "execution_count": 60,
     "metadata": {},
     "output_type": "execute_result"
    }
   ],
   "source": [
    "clean_df.groupby(\"year\").mean()[\"price\"]"
   ]
  },
  {
   "cell_type": "code",
   "execution_count": 64,
   "metadata": {},
   "outputs": [],
   "source": [
    "df = clean_df[clean_df.year != 1970]\n",
    "#1970 year also has a not normal price"
   ]
  },
  {
   "cell_type": "code",
   "execution_count": 65,
   "metadata": {},
   "outputs": [
    {
     "data": {
      "text/plain": [
       "year\n",
       "1997     9995.000000\n",
       "1998     8605.000000\n",
       "1999     5995.000000\n",
       "2000     5743.333333\n",
       "2001     4957.900000\n",
       "2002     5820.444444\n",
       "2003     4878.000000\n",
       "2004     4727.615385\n",
       "2005     4426.111111\n",
       "2006     4036.875000\n",
       "2007     5136.045455\n",
       "2008     6967.437500\n",
       "2009     6166.764706\n",
       "2010     8308.473684\n",
       "2011     8913.459459\n",
       "2012    10845.140351\n",
       "2013    11939.842466\n",
       "2014    14042.936864\n",
       "2015    16647.822222\n",
       "2016    19223.558943\n",
       "2017    21356.280421\n",
       "2018    24800.844506\n",
       "2019    30289.524832\n",
       "2020    34234.794872\n",
       "Name: price, dtype: float64"
      ]
     },
     "execution_count": 65,
     "metadata": {},
     "output_type": "execute_result"
    }
   ],
   "source": [
    "df.groupby(\"year\").mean()[\"price\"]"
   ]
  },
  {
   "cell_type": "code",
   "execution_count": 66,
   "metadata": {},
   "outputs": [
    {
     "data": {
      "text/html": [
       "<div>\n",
       "<style scoped>\n",
       "    .dataframe tbody tr th:only-of-type {\n",
       "        vertical-align: middle;\n",
       "    }\n",
       "\n",
       "    .dataframe tbody tr th {\n",
       "        vertical-align: top;\n",
       "    }\n",
       "\n",
       "    .dataframe thead th {\n",
       "        text-align: right;\n",
       "    }\n",
       "</style>\n",
       "<table border=\"1\" class=\"dataframe\">\n",
       "  <thead>\n",
       "    <tr style=\"text-align: right;\">\n",
       "      <th></th>\n",
       "      <th>year</th>\n",
       "      <th>price</th>\n",
       "      <th>transmission</th>\n",
       "      <th>mileage</th>\n",
       "      <th>tax</th>\n",
       "      <th>mpg</th>\n",
       "      <th>engineSize</th>\n",
       "    </tr>\n",
       "  </thead>\n",
       "  <tbody>\n",
       "    <tr>\n",
       "      <th>6177</th>\n",
       "      <td>2019</td>\n",
       "      <td>65990</td>\n",
       "      <td>Semi-Auto</td>\n",
       "      <td>5076</td>\n",
       "      <td>150</td>\n",
       "      <td>30.4</td>\n",
       "      <td>3.0</td>\n",
       "    </tr>\n",
       "    <tr>\n",
       "      <th>5779</th>\n",
       "      <td>2020</td>\n",
       "      <td>65990</td>\n",
       "      <td>Semi-Auto</td>\n",
       "      <td>999</td>\n",
       "      <td>145</td>\n",
       "      <td>28.0</td>\n",
       "      <td>4.0</td>\n",
       "    </tr>\n",
       "    <tr>\n",
       "      <th>3191</th>\n",
       "      <td>2020</td>\n",
       "      <td>65980</td>\n",
       "      <td>Semi-Auto</td>\n",
       "      <td>3999</td>\n",
       "      <td>145</td>\n",
       "      <td>28.0</td>\n",
       "      <td>4.0</td>\n",
       "    </tr>\n",
       "    <tr>\n",
       "      <th>4727</th>\n",
       "      <td>2019</td>\n",
       "      <td>65000</td>\n",
       "      <td>Semi-Auto</td>\n",
       "      <td>3398</td>\n",
       "      <td>145</td>\n",
       "      <td>27.2</td>\n",
       "      <td>4.0</td>\n",
       "    </tr>\n",
       "    <tr>\n",
       "      <th>8814</th>\n",
       "      <td>2019</td>\n",
       "      <td>64999</td>\n",
       "      <td>Semi-Auto</td>\n",
       "      <td>119</td>\n",
       "      <td>145</td>\n",
       "      <td>40.9</td>\n",
       "      <td>3.0</td>\n",
       "    </tr>\n",
       "  </tbody>\n",
       "</table>\n",
       "</div>"
      ],
      "text/plain": [
       "      year  price transmission  mileage  tax   mpg  engineSize\n",
       "6177  2019  65990    Semi-Auto     5076  150  30.4         3.0\n",
       "5779  2020  65990    Semi-Auto      999  145  28.0         4.0\n",
       "3191  2020  65980    Semi-Auto     3999  145  28.0         4.0\n",
       "4727  2019  65000    Semi-Auto     3398  145  27.2         4.0\n",
       "8814  2019  64999    Semi-Auto      119  145  40.9         3.0"
      ]
     },
     "execution_count": 66,
     "metadata": {},
     "output_type": "execute_result"
    }
   ],
   "source": [
    "df.head()"
   ]
  },
  {
   "cell_type": "code",
   "execution_count": 67,
   "metadata": {},
   "outputs": [],
   "source": [
    "df=df.drop(\"transmission\",axis=1)\n",
    "# with transmission column we can use regression so droped it"
   ]
  },
  {
   "cell_type": "markdown",
   "metadata": {},
   "source": [
    "# Creating Model"
   ]
  },
  {
   "cell_type": "code",
   "execution_count": 69,
   "metadata": {},
   "outputs": [],
   "source": [
    "y = df[\"price\"].values"
   ]
  },
  {
   "cell_type": "code",
   "execution_count": 70,
   "metadata": {},
   "outputs": [],
   "source": [
    "x = df.drop(\"price\",axis=1).values"
   ]
  },
  {
   "cell_type": "code",
   "execution_count": 71,
   "metadata": {},
   "outputs": [
    {
     "data": {
      "text/plain": [
       "array([65990, 65990, 65980, ...,  1490,  1350,   650], dtype=int64)"
      ]
     },
     "execution_count": 71,
     "metadata": {},
     "output_type": "execute_result"
    }
   ],
   "source": [
    "y"
   ]
  },
  {
   "cell_type": "code",
   "execution_count": 72,
   "metadata": {},
   "outputs": [
    {
     "data": {
      "text/plain": [
       "array([[2.01900e+03, 5.07600e+03, 1.50000e+02, 3.04000e+01, 3.00000e+00],\n",
       "       [2.02000e+03, 9.99000e+02, 1.45000e+02, 2.80000e+01, 4.00000e+00],\n",
       "       [2.02000e+03, 3.99900e+03, 1.45000e+02, 2.80000e+01, 4.00000e+00],\n",
       "       ...,\n",
       "       [2.00000e+03, 8.70000e+04, 2.65000e+02, 2.72000e+01, 3.20000e+00],\n",
       "       [2.01000e+03, 1.16126e+05, 1.45000e+02, 5.43000e+01, 2.00000e+00],\n",
       "       [2.00300e+03, 1.09090e+05, 2.35000e+02, 4.00000e+01, 1.40000e+00]])"
      ]
     },
     "execution_count": 72,
     "metadata": {},
     "output_type": "execute_result"
    }
   ],
   "source": [
    "x"
   ]
  },
  {
   "cell_type": "code",
   "execution_count": 73,
   "metadata": {},
   "outputs": [],
   "source": [
    "from sklearn.model_selection import train_test_split"
   ]
  },
  {
   "cell_type": "code",
   "execution_count": 74,
   "metadata": {},
   "outputs": [],
   "source": [
    "x_train, x_test, y_train, y_test = train_test_split(x,y,test_size=0.3,random_state=10)"
   ]
  },
  {
   "cell_type": "code",
   "execution_count": 78,
   "metadata": {},
   "outputs": [],
   "source": [
    "from sklearn.preprocessing import MinMaxScaler"
   ]
  },
  {
   "cell_type": "code",
   "execution_count": 79,
   "metadata": {},
   "outputs": [],
   "source": [
    "scaler = MinMaxScaler()"
   ]
  },
  {
   "cell_type": "code",
   "execution_count": 80,
   "metadata": {},
   "outputs": [],
   "source": [
    "x_train = scaler.fit_transform(x_train)"
   ]
  },
  {
   "cell_type": "code",
   "execution_count": 81,
   "metadata": {},
   "outputs": [],
   "source": [
    "x_test = scaler.fit_transform(x_test)"
   ]
  },
  {
   "cell_type": "code",
   "execution_count": 83,
   "metadata": {},
   "outputs": [],
   "source": [
    "from tensorflow.keras.models import Sequential\n",
    "from tensorflow.keras.layers import Dense"
   ]
  },
  {
   "cell_type": "code",
   "execution_count": 87,
   "metadata": {},
   "outputs": [
    {
     "data": {
      "text/plain": [
       "(9090, 5)"
      ]
     },
     "execution_count": 87,
     "metadata": {},
     "output_type": "execute_result"
    }
   ],
   "source": [
    "x_train.shape  # we can use min 5 neuron"
   ]
  },
  {
   "cell_type": "code",
   "execution_count": 88,
   "metadata": {},
   "outputs": [],
   "source": [
    "model = Sequential()\n",
    "\n",
    "model.add(Dense(12,activation = \"relu\"))\n",
    "model.add(Dense(12,activation = \"relu\"))\n",
    "model.add(Dense(12,activation = \"relu\"))\n",
    "model.add(Dense(12,activation = \"relu\"))\n",
    "\n",
    "model.add(Dense(1))  # output layer\n",
    "\n",
    "model.compile(optimizer=\"adam\",loss=\"mse\")"
   ]
  },
  {
   "cell_type": "code",
   "execution_count": 89,
   "metadata": {},
   "outputs": [
    {
     "name": "stdout",
     "output_type": "stream",
     "text": [
      "Epoch 1/300\n",
      "37/37 [==============================] - 0s 5ms/step - loss: 672151360.0000 - val_loss: 688113088.0000\n",
      "Epoch 2/300\n",
      "37/37 [==============================] - 0s 2ms/step - loss: 672144576.0000 - val_loss: 688106432.0000\n",
      "Epoch 3/300\n",
      "37/37 [==============================] - 0s 2ms/step - loss: 672133568.0000 - val_loss: 688085952.0000\n",
      "Epoch 4/300\n",
      "37/37 [==============================] - 0s 2ms/step - loss: 672085568.0000 - val_loss: 687983808.0000\n",
      "Epoch 5/300\n",
      "37/37 [==============================] - 0s 2ms/step - loss: 671874176.0000 - val_loss: 687590720.0000\n",
      "Epoch 6/300\n",
      "37/37 [==============================] - 0s 2ms/step - loss: 671178432.0000 - val_loss: 686414208.0000\n",
      "Epoch 7/300\n",
      "37/37 [==============================] - 0s 2ms/step - loss: 669309376.0000 - val_loss: 683495424.0000\n",
      "Epoch 8/300\n",
      "37/37 [==============================] - 0s 2ms/step - loss: 665078784.0000 - val_loss: 677342912.0000\n",
      "Epoch 9/300\n",
      "37/37 [==============================] - 0s 2ms/step - loss: 656666048.0000 - val_loss: 665615680.0000\n",
      "Epoch 10/300\n",
      "37/37 [==============================] - 0s 2ms/step - loss: 641389888.0000 - val_loss: 645291520.0000\n",
      "Epoch 11/300\n",
      "37/37 [==============================] - 0s 2ms/step - loss: 616157056.0000 - val_loss: 613115776.0000\n",
      "Epoch 12/300\n",
      "37/37 [==============================] - 0s 2ms/step - loss: 577888320.0000 - val_loss: 566036992.0000\n",
      "Epoch 13/300\n",
      "37/37 [==============================] - 0s 2ms/step - loss: 524143936.0000 - val_loss: 502815136.0000\n",
      "Epoch 14/300\n",
      "37/37 [==============================] - 0s 2ms/step - loss: 454934528.0000 - val_loss: 424451808.0000\n",
      "Epoch 15/300\n",
      "37/37 [==============================] - 0s 2ms/step - loss: 372970656.0000 - val_loss: 337105344.0000\n",
      "Epoch 16/300\n",
      "37/37 [==============================] - 0s 2ms/step - loss: 286764192.0000 - val_loss: 250692416.0000\n",
      "Epoch 17/300\n",
      "37/37 [==============================] - 0s 2ms/step - loss: 207755040.0000 - val_loss: 178321152.0000\n",
      "Epoch 18/300\n",
      "37/37 [==============================] - 0s 2ms/step - loss: 147530144.0000 - val_loss: 129729944.0000\n",
      "Epoch 19/300\n",
      "37/37 [==============================] - 0s 2ms/step - loss: 111378848.0000 - val_loss: 104887696.0000\n",
      "Epoch 20/300\n",
      "37/37 [==============================] - 0s 2ms/step - loss: 95286240.0000 - val_loss: 95509544.0000\n",
      "Epoch 21/300\n",
      "37/37 [==============================] - 0s 2ms/step - loss: 89924488.0000 - val_loss: 92514368.0000\n",
      "Epoch 22/300\n",
      "37/37 [==============================] - 0s 2ms/step - loss: 88296064.0000 - val_loss: 91396920.0000\n",
      "Epoch 23/300\n",
      "37/37 [==============================] - 0s 2ms/step - loss: 87578344.0000 - val_loss: 90677112.0000\n",
      "Epoch 24/300\n",
      "37/37 [==============================] - 0s 2ms/step - loss: 87058304.0000 - val_loss: 90038072.0000\n",
      "Epoch 25/300\n",
      "37/37 [==============================] - 0s 2ms/step - loss: 86604496.0000 - val_loss: 89445792.0000\n",
      "Epoch 26/300\n",
      "37/37 [==============================] - 0s 2ms/step - loss: 86162744.0000 - val_loss: 88891336.0000\n",
      "Epoch 27/300\n",
      "37/37 [==============================] - 0s 2ms/step - loss: 85739712.0000 - val_loss: 88351016.0000\n",
      "Epoch 28/300\n",
      "37/37 [==============================] - 0s 2ms/step - loss: 85333464.0000 - val_loss: 87825192.0000\n",
      "Epoch 29/300\n",
      "37/37 [==============================] - 0s 2ms/step - loss: 84930744.0000 - val_loss: 87329888.0000\n",
      "Epoch 30/300\n",
      "37/37 [==============================] - 0s 2ms/step - loss: 84538696.0000 - val_loss: 86829504.0000\n",
      "Epoch 31/300\n",
      "37/37 [==============================] - 0s 2ms/step - loss: 84158832.0000 - val_loss: 86349784.0000\n",
      "Epoch 32/300\n",
      "37/37 [==============================] - 0s 2ms/step - loss: 83766408.0000 - val_loss: 85855312.0000\n",
      "Epoch 33/300\n",
      "37/37 [==============================] - 0s 2ms/step - loss: 83396136.0000 - val_loss: 85382168.0000\n",
      "Epoch 34/300\n",
      "37/37 [==============================] - 0s 2ms/step - loss: 83013552.0000 - val_loss: 84942424.0000\n",
      "Epoch 35/300\n",
      "37/37 [==============================] - 0s 2ms/step - loss: 82643080.0000 - val_loss: 84456168.0000\n",
      "Epoch 36/300\n",
      "37/37 [==============================] - 0s 2ms/step - loss: 82276016.0000 - val_loss: 84000744.0000\n",
      "Epoch 37/300\n",
      "37/37 [==============================] - 0s 2ms/step - loss: 81913344.0000 - val_loss: 83526688.0000\n",
      "Epoch 38/300\n",
      "37/37 [==============================] - 0s 2ms/step - loss: 81535664.0000 - val_loss: 83109232.0000\n",
      "Epoch 39/300\n",
      "37/37 [==============================] - 0s 2ms/step - loss: 81177496.0000 - val_loss: 82673288.0000\n",
      "Epoch 40/300\n",
      "37/37 [==============================] - 0s 2ms/step - loss: 80815112.0000 - val_loss: 82198280.0000\n",
      "Epoch 41/300\n",
      "37/37 [==============================] - 0s 2ms/step - loss: 80450864.0000 - val_loss: 81768992.0000\n",
      "Epoch 42/300\n",
      "37/37 [==============================] - 0s 1ms/step - loss: 80093848.0000 - val_loss: 81339984.0000\n",
      "Epoch 43/300\n",
      "37/37 [==============================] - 0s 2ms/step - loss: 79737296.0000 - val_loss: 80877888.0000\n",
      "Epoch 44/300\n",
      "37/37 [==============================] - 0s 2ms/step - loss: 79369568.0000 - val_loss: 80476376.0000\n",
      "Epoch 45/300\n",
      "37/37 [==============================] - 0s 2ms/step - loss: 79014008.0000 - val_loss: 80010960.0000\n",
      "Epoch 46/300\n",
      "37/37 [==============================] - 0s 2ms/step - loss: 78650896.0000 - val_loss: 79607432.0000\n",
      "Epoch 47/300\n",
      "37/37 [==============================] - 0s 2ms/step - loss: 78288848.0000 - val_loss: 79168856.0000\n",
      "Epoch 48/300\n",
      "37/37 [==============================] - 0s 2ms/step - loss: 77927624.0000 - val_loss: 78719920.0000\n",
      "Epoch 49/300\n",
      "37/37 [==============================] - 0s 2ms/step - loss: 77571952.0000 - val_loss: 78282408.0000\n",
      "Epoch 50/300\n",
      "37/37 [==============================] - 0s 1ms/step - loss: 77216480.0000 - val_loss: 77883712.0000\n",
      "Epoch 51/300\n",
      "37/37 [==============================] - 0s 2ms/step - loss: 76855064.0000 - val_loss: 77405408.0000\n",
      "Epoch 52/300\n",
      "37/37 [==============================] - 0s 2ms/step - loss: 76483184.0000 - val_loss: 77013984.0000\n",
      "Epoch 53/300\n",
      "37/37 [==============================] - 0s 1ms/step - loss: 76120464.0000 - val_loss: 76571696.0000\n",
      "Epoch 54/300\n",
      "37/37 [==============================] - 0s 2ms/step - loss: 75765888.0000 - val_loss: 76126200.0000\n",
      "Epoch 55/300\n",
      "37/37 [==============================] - 0s 1ms/step - loss: 75394552.0000 - val_loss: 75688680.0000\n",
      "Epoch 56/300\n",
      "37/37 [==============================] - 0s 1ms/step - loss: 75026664.0000 - val_loss: 75293592.0000\n",
      "Epoch 57/300\n",
      "37/37 [==============================] - 0s 2ms/step - loss: 74669440.0000 - val_loss: 74849600.0000\n",
      "Epoch 58/300\n",
      "37/37 [==============================] - 0s 2ms/step - loss: 74291288.0000 - val_loss: 74360424.0000\n",
      "Epoch 59/300\n",
      "37/37 [==============================] - 0s 2ms/step - loss: 73924040.0000 - val_loss: 73971600.0000\n",
      "Epoch 60/300\n",
      "37/37 [==============================] - 0s 2ms/step - loss: 73555368.0000 - val_loss: 73503760.0000\n",
      "Epoch 61/300\n",
      "37/37 [==============================] - 0s 2ms/step - loss: 73183608.0000 - val_loss: 73094656.0000\n",
      "Epoch 62/300\n",
      "37/37 [==============================] - 0s 1ms/step - loss: 72801928.0000 - val_loss: 72669016.0000\n",
      "Epoch 63/300\n",
      "37/37 [==============================] - 0s 1ms/step - loss: 72438592.0000 - val_loss: 72214352.0000\n",
      "Epoch 64/300\n",
      "37/37 [==============================] - 0s 2ms/step - loss: 72046480.0000 - val_loss: 71790464.0000\n",
      "Epoch 65/300\n",
      "37/37 [==============================] - 0s 2ms/step - loss: 71669416.0000 - val_loss: 71358176.0000\n",
      "Epoch 66/300\n",
      "37/37 [==============================] - 0s 2ms/step - loss: 71280896.0000 - val_loss: 70864952.0000\n",
      "Epoch 67/300\n",
      "37/37 [==============================] - 0s 2ms/step - loss: 70904952.0000 - val_loss: 70452048.0000\n",
      "Epoch 68/300\n",
      "37/37 [==============================] - 0s 2ms/step - loss: 70518832.0000 - val_loss: 69976448.0000\n",
      "Epoch 69/300\n",
      "37/37 [==============================] - 0s 2ms/step - loss: 70126960.0000 - val_loss: 69534328.0000\n",
      "Epoch 70/300\n",
      "37/37 [==============================] - 0s 1ms/step - loss: 69723152.0000 - val_loss: 69137232.0000\n",
      "Epoch 71/300\n",
      "37/37 [==============================] - 0s 2ms/step - loss: 69333176.0000 - val_loss: 68636736.0000\n",
      "Epoch 72/300\n",
      "37/37 [==============================] - 0s 2ms/step - loss: 68951088.0000 - val_loss: 68214264.0000\n",
      "Epoch 73/300\n",
      "37/37 [==============================] - 0s 2ms/step - loss: 68532576.0000 - val_loss: 67709040.0000\n",
      "Epoch 74/300\n",
      "37/37 [==============================] - 0s 2ms/step - loss: 68140936.0000 - val_loss: 67259360.0000\n",
      "Epoch 75/300\n",
      "37/37 [==============================] - 0s 2ms/step - loss: 67719584.0000 - val_loss: 66786016.0000\n",
      "Epoch 76/300\n",
      "37/37 [==============================] - 0s 2ms/step - loss: 67312032.0000 - val_loss: 66292336.0000\n",
      "Epoch 77/300\n",
      "37/37 [==============================] - 0s 2ms/step - loss: 66907712.0000 - val_loss: 65906424.0000\n",
      "Epoch 78/300\n",
      "37/37 [==============================] - 0s 2ms/step - loss: 66476504.0000 - val_loss: 65349324.0000\n",
      "Epoch 79/300\n",
      "37/37 [==============================] - 0s 2ms/step - loss: 66047064.0000 - val_loss: 64873752.0000\n",
      "Epoch 80/300\n",
      "37/37 [==============================] - 0s 2ms/step - loss: 65617528.0000 - val_loss: 64420884.0000\n",
      "Epoch 81/300\n",
      "37/37 [==============================] - 0s 2ms/step - loss: 65188608.0000 - val_loss: 63864952.0000\n",
      "Epoch 82/300\n",
      "37/37 [==============================] - 0s 2ms/step - loss: 64756000.0000 - val_loss: 63408408.0000\n",
      "Epoch 83/300\n",
      "37/37 [==============================] - 0s 1ms/step - loss: 64315812.0000 - val_loss: 62869032.0000\n",
      "Epoch 84/300\n",
      "37/37 [==============================] - 0s 2ms/step - loss: 63883936.0000 - val_loss: 62404428.0000\n",
      "Epoch 85/300\n",
      "37/37 [==============================] - 0s 2ms/step - loss: 63422360.0000 - val_loss: 61985912.0000\n",
      "Epoch 86/300\n",
      "37/37 [==============================] - 0s 2ms/step - loss: 62959108.0000 - val_loss: 61454740.0000\n",
      "Epoch 87/300\n",
      "37/37 [==============================] - 0s 2ms/step - loss: 62496708.0000 - val_loss: 60895212.0000\n",
      "Epoch 88/300\n",
      "37/37 [==============================] - 0s 2ms/step - loss: 62030984.0000 - val_loss: 60392580.0000\n",
      "Epoch 89/300\n",
      "37/37 [==============================] - 0s 2ms/step - loss: 61573680.0000 - val_loss: 59751872.0000\n",
      "Epoch 90/300\n",
      "37/37 [==============================] - 0s 2ms/step - loss: 61074888.0000 - val_loss: 59337548.0000\n",
      "Epoch 91/300\n",
      "37/37 [==============================] - 0s 2ms/step - loss: 60591448.0000 - val_loss: 58792808.0000\n",
      "Epoch 92/300\n",
      "37/37 [==============================] - 0s 2ms/step - loss: 60085652.0000 - val_loss: 58169596.0000\n",
      "Epoch 93/300\n",
      "37/37 [==============================] - 0s 2ms/step - loss: 59591632.0000 - val_loss: 57671016.0000\n",
      "Epoch 94/300\n",
      "37/37 [==============================] - 0s 2ms/step - loss: 59072252.0000 - val_loss: 57125736.0000\n",
      "Epoch 95/300\n",
      "37/37 [==============================] - 0s 2ms/step - loss: 58560716.0000 - val_loss: 56575176.0000\n",
      "Epoch 96/300\n",
      "37/37 [==============================] - 0s 2ms/step - loss: 58034124.0000 - val_loss: 55915292.0000\n",
      "Epoch 97/300\n",
      "37/37 [==============================] - 0s 2ms/step - loss: 57503264.0000 - val_loss: 55374812.0000\n",
      "Epoch 98/300\n",
      "37/37 [==============================] - 0s 2ms/step - loss: 56971768.0000 - val_loss: 54875716.0000\n",
      "Epoch 99/300\n",
      "37/37 [==============================] - 0s 2ms/step - loss: 56453632.0000 - val_loss: 54361804.0000\n",
      "Epoch 100/300\n",
      "37/37 [==============================] - 0s 2ms/step - loss: 55871464.0000 - val_loss: 53646140.0000\n",
      "Epoch 101/300\n",
      "37/37 [==============================] - 0s 2ms/step - loss: 55308228.0000 - val_loss: 53064616.0000\n",
      "Epoch 102/300\n",
      "37/37 [==============================] - 0s 2ms/step - loss: 54720828.0000 - val_loss: 52344020.0000\n",
      "Epoch 103/300\n",
      "37/37 [==============================] - 0s 2ms/step - loss: 54134956.0000 - val_loss: 51824112.0000\n",
      "Epoch 104/300\n",
      "37/37 [==============================] - 0s 2ms/step - loss: 53548932.0000 - val_loss: 51172052.0000\n",
      "Epoch 105/300\n",
      "37/37 [==============================] - 0s 2ms/step - loss: 52951268.0000 - val_loss: 50570376.0000\n",
      "Epoch 106/300\n",
      "37/37 [==============================] - 0s 2ms/step - loss: 52333720.0000 - val_loss: 49848164.0000\n",
      "Epoch 107/300\n",
      "37/37 [==============================] - 0s 2ms/step - loss: 51707372.0000 - val_loss: 49264000.0000\n",
      "Epoch 108/300\n",
      "37/37 [==============================] - 0s 2ms/step - loss: 51079776.0000 - val_loss: 48638320.0000\n",
      "Epoch 109/300\n",
      "37/37 [==============================] - 0s 2ms/step - loss: 50437880.0000 - val_loss: 48018736.0000\n",
      "Epoch 110/300\n",
      "37/37 [==============================] - 0s 2ms/step - loss: 49815344.0000 - val_loss: 47205108.0000\n",
      "Epoch 111/300\n",
      "37/37 [==============================] - 0s 2ms/step - loss: 49142224.0000 - val_loss: 46868476.0000\n",
      "Epoch 112/300\n",
      "37/37 [==============================] - 0s 2ms/step - loss: 48478984.0000 - val_loss: 45900256.0000\n",
      "Epoch 113/300\n",
      "37/37 [==============================] - 0s 2ms/step - loss: 47823128.0000 - val_loss: 45479868.0000\n",
      "Epoch 114/300\n",
      "37/37 [==============================] - 0s 2ms/step - loss: 47126860.0000 - val_loss: 44924212.0000\n",
      "Epoch 115/300\n",
      "37/37 [==============================] - 0s 2ms/step - loss: 46460184.0000 - val_loss: 44130904.0000\n",
      "Epoch 116/300\n",
      "37/37 [==============================] - 0s 2ms/step - loss: 45774600.0000 - val_loss: 43473064.0000\n",
      "Epoch 117/300\n",
      "37/37 [==============================] - 0s 2ms/step - loss: 45077912.0000 - val_loss: 43335552.0000\n",
      "Epoch 118/300\n",
      "37/37 [==============================] - 0s 2ms/step - loss: 44406620.0000 - val_loss: 42345464.0000\n",
      "Epoch 119/300\n",
      "37/37 [==============================] - 0s 2ms/step - loss: 43702512.0000 - val_loss: 41843316.0000\n",
      "Epoch 120/300\n",
      "37/37 [==============================] - 0s 2ms/step - loss: 43025976.0000 - val_loss: 41384300.0000\n",
      "Epoch 121/300\n",
      "37/37 [==============================] - 0s 2ms/step - loss: 42360296.0000 - val_loss: 40385124.0000\n",
      "Epoch 122/300\n",
      "37/37 [==============================] - 0s 2ms/step - loss: 41744696.0000 - val_loss: 39957784.0000\n",
      "Epoch 123/300\n",
      "37/37 [==============================] - 0s 2ms/step - loss: 41024972.0000 - val_loss: 39677224.0000\n",
      "Epoch 124/300\n",
      "37/37 [==============================] - 0s 2ms/step - loss: 40392460.0000 - val_loss: 39470128.0000\n",
      "Epoch 125/300\n",
      "37/37 [==============================] - 0s 2ms/step - loss: 39722352.0000 - val_loss: 38643376.0000\n",
      "Epoch 126/300\n",
      "37/37 [==============================] - 0s 2ms/step - loss: 39120996.0000 - val_loss: 38316184.0000\n",
      "Epoch 127/300\n",
      "37/37 [==============================] - 0s 2ms/step - loss: 38530820.0000 - val_loss: 38102180.0000\n",
      "Epoch 128/300\n",
      "37/37 [==============================] - 0s 2ms/step - loss: 37949292.0000 - val_loss: 37366788.0000\n",
      "Epoch 129/300\n",
      "37/37 [==============================] - 0s 2ms/step - loss: 37414904.0000 - val_loss: 36828796.0000\n",
      "Epoch 130/300\n",
      "37/37 [==============================] - 0s 2ms/step - loss: 36880152.0000 - val_loss: 37288628.0000\n",
      "Epoch 131/300\n",
      "37/37 [==============================] - 0s 1ms/step - loss: 36319396.0000 - val_loss: 36654280.0000\n",
      "Epoch 132/300\n",
      "37/37 [==============================] - 0s 2ms/step - loss: 35861272.0000 - val_loss: 36475936.0000\n",
      "Epoch 133/300\n",
      "37/37 [==============================] - 0s 2ms/step - loss: 35366892.0000 - val_loss: 36314588.0000\n",
      "Epoch 134/300\n",
      "37/37 [==============================] - 0s 2ms/step - loss: 34925012.0000 - val_loss: 35850092.0000\n",
      "Epoch 135/300\n",
      "37/37 [==============================] - 0s 2ms/step - loss: 34488124.0000 - val_loss: 36305648.0000\n",
      "Epoch 136/300\n",
      "37/37 [==============================] - 0s 2ms/step - loss: 34113120.0000 - val_loss: 35536212.0000\n",
      "Epoch 137/300\n",
      "37/37 [==============================] - 0s 1ms/step - loss: 33733796.0000 - val_loss: 35956604.0000\n",
      "Epoch 138/300\n",
      "37/37 [==============================] - 0s 2ms/step - loss: 33364716.0000 - val_loss: 34916940.0000\n",
      "Epoch 139/300\n",
      "37/37 [==============================] - 0s 2ms/step - loss: 33037198.0000 - val_loss: 35201092.0000\n",
      "Epoch 140/300\n",
      "37/37 [==============================] - 0s 2ms/step - loss: 32686754.0000 - val_loss: 35383004.0000\n",
      "Epoch 141/300\n",
      "37/37 [==============================] - 0s 2ms/step - loss: 32354428.0000 - val_loss: 34969536.0000\n",
      "Epoch 142/300\n",
      "37/37 [==============================] - 0s 2ms/step - loss: 32054008.0000 - val_loss: 35241620.0000\n",
      "Epoch 143/300\n",
      "37/37 [==============================] - 0s 2ms/step - loss: 31773788.0000 - val_loss: 35055496.0000\n",
      "Epoch 144/300\n",
      "37/37 [==============================] - 0s 2ms/step - loss: 31479508.0000 - val_loss: 34791936.0000\n",
      "Epoch 145/300\n",
      "37/37 [==============================] - 0s 2ms/step - loss: 31210492.0000 - val_loss: 35002172.0000\n",
      "Epoch 146/300\n",
      "37/37 [==============================] - 0s 2ms/step - loss: 30955800.0000 - val_loss: 34746244.0000\n",
      "Epoch 147/300\n",
      "37/37 [==============================] - 0s 2ms/step - loss: 30693908.0000 - val_loss: 34337740.0000\n",
      "Epoch 148/300\n",
      "37/37 [==============================] - 0s 2ms/step - loss: 30454110.0000 - val_loss: 33846380.0000\n",
      "Epoch 149/300\n",
      "37/37 [==============================] - 0s 2ms/step - loss: 30194276.0000 - val_loss: 33829864.0000\n",
      "Epoch 150/300\n",
      "37/37 [==============================] - 0s 2ms/step - loss: 29970312.0000 - val_loss: 34122080.0000\n",
      "Epoch 151/300\n",
      "37/37 [==============================] - 0s 2ms/step - loss: 29723568.0000 - val_loss: 33601664.0000\n",
      "Epoch 152/300\n",
      "37/37 [==============================] - 0s 2ms/step - loss: 29485638.0000 - val_loss: 34074012.0000\n",
      "Epoch 153/300\n",
      "37/37 [==============================] - 0s 2ms/step - loss: 29251396.0000 - val_loss: 32888418.0000\n",
      "Epoch 154/300\n",
      "37/37 [==============================] - 0s 2ms/step - loss: 29039266.0000 - val_loss: 33122286.0000\n",
      "Epoch 155/300\n",
      "37/37 [==============================] - 0s 2ms/step - loss: 28802520.0000 - val_loss: 33023258.0000\n",
      "Epoch 156/300\n",
      "37/37 [==============================] - 0s 2ms/step - loss: 28572386.0000 - val_loss: 32690492.0000\n",
      "Epoch 157/300\n",
      "37/37 [==============================] - 0s 2ms/step - loss: 28329932.0000 - val_loss: 32452894.0000\n",
      "Epoch 158/300\n",
      "37/37 [==============================] - 0s 2ms/step - loss: 28107566.0000 - val_loss: 32882588.0000\n",
      "Epoch 159/300\n",
      "37/37 [==============================] - 0s 2ms/step - loss: 27835400.0000 - val_loss: 31771536.0000\n",
      "Epoch 160/300\n",
      "37/37 [==============================] - 0s 2ms/step - loss: 27543058.0000 - val_loss: 31439932.0000\n",
      "Epoch 161/300\n",
      "37/37 [==============================] - 0s 2ms/step - loss: 27246540.0000 - val_loss: 31039218.0000\n",
      "Epoch 162/300\n",
      "37/37 [==============================] - 0s 2ms/step - loss: 26943482.0000 - val_loss: 30649016.0000\n",
      "Epoch 163/300\n",
      "37/37 [==============================] - 0s 2ms/step - loss: 26630230.0000 - val_loss: 30090068.0000\n",
      "Epoch 164/300\n",
      "37/37 [==============================] - 0s 2ms/step - loss: 26307322.0000 - val_loss: 29990994.0000\n",
      "Epoch 165/300\n",
      "37/37 [==============================] - 0s 2ms/step - loss: 25977134.0000 - val_loss: 29771604.0000\n",
      "Epoch 166/300\n",
      "37/37 [==============================] - 0s 2ms/step - loss: 25668144.0000 - val_loss: 29146342.0000\n",
      "Epoch 167/300\n",
      "37/37 [==============================] - 0s 2ms/step - loss: 25348594.0000 - val_loss: 28499798.0000\n",
      "Epoch 168/300\n",
      "37/37 [==============================] - 0s 2ms/step - loss: 25014498.0000 - val_loss: 28416344.0000\n",
      "Epoch 169/300\n",
      "37/37 [==============================] - 0s 2ms/step - loss: 24713266.0000 - val_loss: 28063088.0000\n",
      "Epoch 170/300\n",
      "37/37 [==============================] - 0s 2ms/step - loss: 24460788.0000 - val_loss: 27819404.0000\n",
      "Epoch 171/300\n",
      "37/37 [==============================] - 0s 2ms/step - loss: 24173190.0000 - val_loss: 27288320.0000\n",
      "Epoch 172/300\n",
      "37/37 [==============================] - 0s 2ms/step - loss: 23929252.0000 - val_loss: 27079456.0000\n",
      "Epoch 173/300\n",
      "37/37 [==============================] - 0s 2ms/step - loss: 23706090.0000 - val_loss: 26525382.0000\n",
      "Epoch 174/300\n",
      "37/37 [==============================] - 0s 2ms/step - loss: 23514260.0000 - val_loss: 26862012.0000\n",
      "Epoch 175/300\n",
      "37/37 [==============================] - 0s 2ms/step - loss: 23351662.0000 - val_loss: 26606416.0000\n",
      "Epoch 176/300\n",
      "37/37 [==============================] - 0s 2ms/step - loss: 23161206.0000 - val_loss: 26412036.0000\n",
      "Epoch 177/300\n",
      "37/37 [==============================] - 0s 1ms/step - loss: 23006392.0000 - val_loss: 26115222.0000\n",
      "Epoch 178/300\n",
      "37/37 [==============================] - 0s 1ms/step - loss: 22867574.0000 - val_loss: 25884792.0000\n",
      "Epoch 179/300\n",
      "37/37 [==============================] - 0s 2ms/step - loss: 22723090.0000 - val_loss: 25916774.0000\n",
      "Epoch 180/300\n",
      "37/37 [==============================] - 0s 2ms/step - loss: 22584970.0000 - val_loss: 25620228.0000\n",
      "Epoch 181/300\n",
      "37/37 [==============================] - 0s 1ms/step - loss: 22482524.0000 - val_loss: 25610792.0000\n",
      "Epoch 182/300\n",
      "37/37 [==============================] - 0s 2ms/step - loss: 22347074.0000 - val_loss: 25402344.0000\n",
      "Epoch 183/300\n",
      "37/37 [==============================] - 0s 2ms/step - loss: 22235994.0000 - val_loss: 26015708.0000\n",
      "Epoch 184/300\n",
      "37/37 [==============================] - 0s 2ms/step - loss: 22145206.0000 - val_loss: 25648732.0000\n",
      "Epoch 185/300\n",
      "37/37 [==============================] - 0s 2ms/step - loss: 22064698.0000 - val_loss: 25957380.0000\n",
      "Epoch 186/300\n",
      "37/37 [==============================] - 0s 2ms/step - loss: 21981372.0000 - val_loss: 25803072.0000\n",
      "Epoch 187/300\n",
      "37/37 [==============================] - 0s 2ms/step - loss: 21864480.0000 - val_loss: 25271726.0000\n",
      "Epoch 188/300\n",
      "37/37 [==============================] - 0s 2ms/step - loss: 21790584.0000 - val_loss: 25215776.0000\n",
      "Epoch 189/300\n",
      "37/37 [==============================] - 0s 2ms/step - loss: 21743108.0000 - val_loss: 24938714.0000\n",
      "Epoch 190/300\n",
      "37/37 [==============================] - 0s 2ms/step - loss: 21650946.0000 - val_loss: 25011056.0000\n",
      "Epoch 191/300\n",
      "37/37 [==============================] - 0s 2ms/step - loss: 21569738.0000 - val_loss: 25561192.0000\n",
      "Epoch 192/300\n",
      "37/37 [==============================] - 0s 2ms/step - loss: 21526406.0000 - val_loss: 25170832.0000\n",
      "Epoch 193/300\n",
      "37/37 [==============================] - 0s 2ms/step - loss: 21457522.0000 - val_loss: 25541768.0000\n",
      "Epoch 194/300\n",
      "37/37 [==============================] - 0s 2ms/step - loss: 21396544.0000 - val_loss: 25228820.0000\n",
      "Epoch 195/300\n",
      "37/37 [==============================] - 0s 2ms/step - loss: 21346318.0000 - val_loss: 24830024.0000\n",
      "Epoch 196/300\n",
      "37/37 [==============================] - 0s 2ms/step - loss: 21328720.0000 - val_loss: 25248372.0000\n",
      "Epoch 197/300\n",
      "37/37 [==============================] - 0s 2ms/step - loss: 21237700.0000 - val_loss: 24530624.0000\n",
      "Epoch 198/300\n",
      "37/37 [==============================] - 0s 2ms/step - loss: 21179850.0000 - val_loss: 24854806.0000\n",
      "Epoch 199/300\n",
      "37/37 [==============================] - 0s 2ms/step - loss: 21155076.0000 - val_loss: 24281696.0000\n",
      "Epoch 200/300\n",
      "37/37 [==============================] - 0s 2ms/step - loss: 21170142.0000 - val_loss: 24313358.0000\n",
      "Epoch 201/300\n",
      "37/37 [==============================] - 0s 2ms/step - loss: 21068362.0000 - val_loss: 24190946.0000\n",
      "Epoch 202/300\n",
      "37/37 [==============================] - 0s 2ms/step - loss: 21022982.0000 - val_loss: 24919308.0000\n",
      "Epoch 203/300\n",
      "37/37 [==============================] - 0s 2ms/step - loss: 20975156.0000 - val_loss: 24516278.0000\n",
      "Epoch 204/300\n",
      "37/37 [==============================] - 0s 2ms/step - loss: 20941844.0000 - val_loss: 24638942.0000\n",
      "Epoch 205/300\n",
      "37/37 [==============================] - 0s 2ms/step - loss: 20893940.0000 - val_loss: 24910508.0000\n",
      "Epoch 206/300\n",
      "37/37 [==============================] - 0s 2ms/step - loss: 20851798.0000 - val_loss: 24724874.0000\n",
      "Epoch 207/300\n",
      "37/37 [==============================] - 0s 2ms/step - loss: 20824620.0000 - val_loss: 24896904.0000\n",
      "Epoch 208/300\n",
      "37/37 [==============================] - 0s 2ms/step - loss: 20792952.0000 - val_loss: 24336590.0000\n",
      "Epoch 209/300\n",
      "37/37 [==============================] - 0s 2ms/step - loss: 20776094.0000 - val_loss: 24496544.0000\n",
      "Epoch 210/300\n",
      "37/37 [==============================] - 0s 2ms/step - loss: 20708218.0000 - val_loss: 24981200.0000\n",
      "Epoch 211/300\n",
      "37/37 [==============================] - 0s 2ms/step - loss: 20692928.0000 - val_loss: 24209754.0000\n",
      "Epoch 212/300\n",
      "37/37 [==============================] - 0s 2ms/step - loss: 20649396.0000 - val_loss: 24821502.0000\n",
      "Epoch 213/300\n",
      "37/37 [==============================] - 0s 2ms/step - loss: 20630402.0000 - val_loss: 24622198.0000\n",
      "Epoch 214/300\n",
      "37/37 [==============================] - 0s 1ms/step - loss: 20589938.0000 - val_loss: 24247688.0000\n",
      "Epoch 215/300\n",
      "37/37 [==============================] - 0s 2ms/step - loss: 20563900.0000 - val_loss: 24900910.0000\n",
      "Epoch 216/300\n",
      "37/37 [==============================] - 0s 2ms/step - loss: 20537754.0000 - val_loss: 24369824.0000\n",
      "Epoch 217/300\n",
      "37/37 [==============================] - 0s 2ms/step - loss: 20514418.0000 - val_loss: 24238552.0000\n",
      "Epoch 218/300\n",
      "37/37 [==============================] - 0s 2ms/step - loss: 20488526.0000 - val_loss: 24202436.0000\n",
      "Epoch 219/300\n",
      "37/37 [==============================] - 0s 2ms/step - loss: 20465192.0000 - val_loss: 24233540.0000\n",
      "Epoch 220/300\n",
      "37/37 [==============================] - 0s 2ms/step - loss: 20428048.0000 - val_loss: 24780870.0000\n",
      "Epoch 221/300\n",
      "37/37 [==============================] - 0s 2ms/step - loss: 20402084.0000 - val_loss: 24281694.0000\n",
      "Epoch 222/300\n",
      "37/37 [==============================] - 0s 1ms/step - loss: 20372958.0000 - val_loss: 24071068.0000\n",
      "Epoch 223/300\n",
      "37/37 [==============================] - 0s 2ms/step - loss: 20369266.0000 - val_loss: 24333658.0000\n",
      "Epoch 224/300\n",
      "37/37 [==============================] - 0s 2ms/step - loss: 20354756.0000 - val_loss: 24300772.0000\n",
      "Epoch 225/300\n",
      "37/37 [==============================] - 0s 2ms/step - loss: 20333456.0000 - val_loss: 24349882.0000\n",
      "Epoch 226/300\n",
      "37/37 [==============================] - 0s 2ms/step - loss: 20325544.0000 - val_loss: 24549960.0000\n",
      "Epoch 227/300\n",
      "37/37 [==============================] - 0s 2ms/step - loss: 20266016.0000 - val_loss: 24317204.0000\n",
      "Epoch 228/300\n",
      "37/37 [==============================] - 0s 2ms/step - loss: 20253762.0000 - val_loss: 24153476.0000\n",
      "Epoch 229/300\n",
      "37/37 [==============================] - 0s 2ms/step - loss: 20226354.0000 - val_loss: 24206908.0000\n",
      "Epoch 230/300\n",
      "37/37 [==============================] - 0s 2ms/step - loss: 20200276.0000 - val_loss: 24028602.0000\n",
      "Epoch 231/300\n",
      "37/37 [==============================] - 0s 2ms/step - loss: 20181722.0000 - val_loss: 24313494.0000\n",
      "Epoch 232/300\n",
      "37/37 [==============================] - 0s 2ms/step - loss: 20161650.0000 - val_loss: 24150506.0000\n",
      "Epoch 233/300\n",
      "37/37 [==============================] - 0s 2ms/step - loss: 20146528.0000 - val_loss: 24411902.0000\n",
      "Epoch 234/300\n",
      "37/37 [==============================] - 0s 2ms/step - loss: 20126650.0000 - val_loss: 24369160.0000\n",
      "Epoch 235/300\n",
      "37/37 [==============================] - 0s 2ms/step - loss: 20112650.0000 - val_loss: 24325872.0000\n",
      "Epoch 236/300\n",
      "37/37 [==============================] - 0s 2ms/step - loss: 20102010.0000 - val_loss: 24178904.0000\n",
      "Epoch 237/300\n",
      "37/37 [==============================] - 0s 2ms/step - loss: 20094046.0000 - val_loss: 23864978.0000\n",
      "Epoch 238/300\n",
      "37/37 [==============================] - 0s 2ms/step - loss: 20059888.0000 - val_loss: 24076668.0000\n",
      "Epoch 239/300\n",
      "37/37 [==============================] - 0s 2ms/step - loss: 20052502.0000 - val_loss: 23714390.0000\n",
      "Epoch 240/300\n",
      "37/37 [==============================] - 0s 2ms/step - loss: 20052530.0000 - val_loss: 23571274.0000\n",
      "Epoch 241/300\n",
      "37/37 [==============================] - 0s 2ms/step - loss: 20008750.0000 - val_loss: 24024264.0000\n",
      "Epoch 242/300\n",
      "37/37 [==============================] - 0s 2ms/step - loss: 19992760.0000 - val_loss: 24219968.0000\n",
      "Epoch 243/300\n",
      "37/37 [==============================] - 0s 2ms/step - loss: 19973566.0000 - val_loss: 24375910.0000\n",
      "Epoch 244/300\n",
      "37/37 [==============================] - 0s 2ms/step - loss: 19945956.0000 - val_loss: 23704162.0000\n",
      "Epoch 245/300\n",
      "37/37 [==============================] - 0s 2ms/step - loss: 19979468.0000 - val_loss: 24447376.0000\n",
      "Epoch 246/300\n",
      "37/37 [==============================] - 0s 2ms/step - loss: 19920158.0000 - val_loss: 23417096.0000\n",
      "Epoch 247/300\n",
      "37/37 [==============================] - 0s 2ms/step - loss: 19876902.0000 - val_loss: 24645070.0000\n",
      "Epoch 248/300\n",
      "37/37 [==============================] - 0s 2ms/step - loss: 19903542.0000 - val_loss: 24000154.0000\n",
      "Epoch 249/300\n",
      "37/37 [==============================] - 0s 2ms/step - loss: 19880876.0000 - val_loss: 23901994.0000\n",
      "Epoch 250/300\n",
      "37/37 [==============================] - 0s 2ms/step - loss: 19872054.0000 - val_loss: 23518060.0000\n",
      "Epoch 251/300\n",
      "37/37 [==============================] - 0s 2ms/step - loss: 19841950.0000 - val_loss: 24069048.0000\n",
      "Epoch 252/300\n",
      "37/37 [==============================] - 0s 2ms/step - loss: 19820452.0000 - val_loss: 23551826.0000\n",
      "Epoch 253/300\n",
      "37/37 [==============================] - 0s 2ms/step - loss: 19834814.0000 - val_loss: 24145002.0000\n",
      "Epoch 254/300\n",
      "37/37 [==============================] - 0s 2ms/step - loss: 19832212.0000 - val_loss: 23711192.0000\n",
      "Epoch 255/300\n",
      "37/37 [==============================] - 0s 2ms/step - loss: 19802854.0000 - val_loss: 23997094.0000\n",
      "Epoch 256/300\n",
      "37/37 [==============================] - 0s 2ms/step - loss: 19778688.0000 - val_loss: 24129864.0000\n",
      "Epoch 257/300\n",
      "37/37 [==============================] - 0s 2ms/step - loss: 19778654.0000 - val_loss: 23999350.0000\n",
      "Epoch 258/300\n",
      "37/37 [==============================] - 0s 2ms/step - loss: 19746744.0000 - val_loss: 24018208.0000\n",
      "Epoch 259/300\n",
      "37/37 [==============================] - 0s 2ms/step - loss: 19747538.0000 - val_loss: 24060258.0000\n",
      "Epoch 260/300\n",
      "37/37 [==============================] - 0s 2ms/step - loss: 19740114.0000 - val_loss: 24064856.0000\n",
      "Epoch 261/300\n",
      "37/37 [==============================] - 0s 2ms/step - loss: 19705998.0000 - val_loss: 23940324.0000\n",
      "Epoch 262/300\n",
      "37/37 [==============================] - 0s 2ms/step - loss: 19697570.0000 - val_loss: 23716942.0000\n",
      "Epoch 263/300\n",
      "37/37 [==============================] - 0s 2ms/step - loss: 19679780.0000 - val_loss: 23645294.0000\n",
      "Epoch 264/300\n",
      "37/37 [==============================] - 0s 3ms/step - loss: 19668604.0000 - val_loss: 24004140.0000\n",
      "Epoch 265/300\n",
      "37/37 [==============================] - 0s 2ms/step - loss: 19661834.0000 - val_loss: 24285426.0000\n",
      "Epoch 266/300\n",
      "37/37 [==============================] - 0s 1ms/step - loss: 19647856.0000 - val_loss: 23702570.0000\n",
      "Epoch 267/300\n",
      "37/37 [==============================] - 0s 3ms/step - loss: 19635206.0000 - val_loss: 23673966.0000\n",
      "Epoch 268/300\n",
      "37/37 [==============================] - 0s 2ms/step - loss: 19619460.0000 - val_loss: 23965086.0000\n",
      "Epoch 269/300\n",
      "37/37 [==============================] - 0s 2ms/step - loss: 19615512.0000 - val_loss: 24010616.0000\n",
      "Epoch 270/300\n",
      "37/37 [==============================] - 0s 2ms/step - loss: 19616068.0000 - val_loss: 23583114.0000\n",
      "Epoch 271/300\n",
      "37/37 [==============================] - 0s 2ms/step - loss: 19608844.0000 - val_loss: 24039804.0000\n",
      "Epoch 272/300\n",
      "37/37 [==============================] - 0s 2ms/step - loss: 19578514.0000 - val_loss: 23623838.0000\n",
      "Epoch 273/300\n",
      "37/37 [==============================] - 0s 2ms/step - loss: 19564270.0000 - val_loss: 23764074.0000\n",
      "Epoch 274/300\n",
      "37/37 [==============================] - 0s 2ms/step - loss: 19553914.0000 - val_loss: 23481542.0000\n",
      "Epoch 275/300\n",
      "37/37 [==============================] - 0s 2ms/step - loss: 19552666.0000 - val_loss: 23290032.0000\n",
      "Epoch 276/300\n",
      "37/37 [==============================] - 0s 2ms/step - loss: 19539562.0000 - val_loss: 23581152.0000\n",
      "Epoch 277/300\n",
      "37/37 [==============================] - 0s 2ms/step - loss: 19519522.0000 - val_loss: 24240862.0000\n",
      "Epoch 278/300\n",
      "37/37 [==============================] - 0s 2ms/step - loss: 19508680.0000 - val_loss: 23406322.0000\n",
      "Epoch 279/300\n",
      "37/37 [==============================] - 0s 2ms/step - loss: 19499676.0000 - val_loss: 23407010.0000\n",
      "Epoch 280/300\n",
      "37/37 [==============================] - 0s 2ms/step - loss: 19481746.0000 - val_loss: 23737004.0000\n",
      "Epoch 281/300\n",
      "37/37 [==============================] - 0s 2ms/step - loss: 19481350.0000 - val_loss: 23953652.0000\n",
      "Epoch 282/300\n",
      "37/37 [==============================] - 0s 2ms/step - loss: 19474472.0000 - val_loss: 23555786.0000\n",
      "Epoch 283/300\n",
      "37/37 [==============================] - 0s 2ms/step - loss: 19462038.0000 - val_loss: 23712234.0000\n",
      "Epoch 284/300\n",
      "37/37 [==============================] - 0s 2ms/step - loss: 19452168.0000 - val_loss: 23811552.0000\n",
      "Epoch 285/300\n",
      "37/37 [==============================] - 0s 1ms/step - loss: 19447420.0000 - val_loss: 23992876.0000\n",
      "Epoch 286/300\n",
      "37/37 [==============================] - 0s 1ms/step - loss: 19437016.0000 - val_loss: 23973670.0000\n",
      "Epoch 287/300\n",
      "37/37 [==============================] - 0s 2ms/step - loss: 19431760.0000 - val_loss: 23325824.0000\n",
      "Epoch 288/300\n",
      "37/37 [==============================] - 0s 2ms/step - loss: 19425576.0000 - val_loss: 23112508.0000\n",
      "Epoch 289/300\n",
      "37/37 [==============================] - 0s 2ms/step - loss: 19407244.0000 - val_loss: 23543110.0000\n",
      "Epoch 290/300\n",
      "37/37 [==============================] - 0s 2ms/step - loss: 19399444.0000 - val_loss: 23425834.0000\n",
      "Epoch 291/300\n",
      "37/37 [==============================] - 0s 2ms/step - loss: 19397294.0000 - val_loss: 23678980.0000\n",
      "Epoch 292/300\n",
      "37/37 [==============================] - 0s 2ms/step - loss: 19397388.0000 - val_loss: 24182666.0000\n",
      "Epoch 293/300\n",
      "37/37 [==============================] - 0s 2ms/step - loss: 19362804.0000 - val_loss: 23315962.0000\n",
      "Epoch 294/300\n",
      "37/37 [==============================] - 0s 2ms/step - loss: 19344146.0000 - val_loss: 23243584.0000\n",
      "Epoch 295/300\n",
      "37/37 [==============================] - 0s 2ms/step - loss: 19380604.0000 - val_loss: 23402274.0000\n",
      "Epoch 296/300\n",
      "37/37 [==============================] - 0s 2ms/step - loss: 19334890.0000 - val_loss: 23017416.0000\n",
      "Epoch 297/300\n",
      "37/37 [==============================] - 0s 2ms/step - loss: 19346330.0000 - val_loss: 23354538.0000\n",
      "Epoch 298/300\n",
      "37/37 [==============================] - 0s 2ms/step - loss: 19337408.0000 - val_loss: 23527996.0000\n",
      "Epoch 299/300\n",
      "37/37 [==============================] - 0s 2ms/step - loss: 19310618.0000 - val_loss: 23537028.0000\n",
      "Epoch 300/300\n",
      "37/37 [==============================] - 0s 2ms/step - loss: 19298764.0000 - val_loss: 23406660.0000\n"
     ]
    },
    {
     "data": {
      "text/plain": [
       "<tensorflow.python.keras.callbacks.History at 0x28fafc5d040>"
      ]
     },
     "execution_count": 89,
     "metadata": {},
     "output_type": "execute_result"
    }
   ],
   "source": [
    "model.fit(x=x_train, y=y_train, validation_data=(x_test, y_test), batch_size=250, epochs=300)"
   ]
  },
  {
   "cell_type": "markdown",
   "metadata": {},
   "source": [
    "# Evaluation of results "
   ]
  },
  {
   "cell_type": "code",
   "execution_count": 90,
   "metadata": {},
   "outputs": [],
   "source": [
    "lossData = pd.DataFrame(model.history.history)"
   ]
  },
  {
   "cell_type": "code",
   "execution_count": 91,
   "metadata": {},
   "outputs": [
    {
     "data": {
      "text/html": [
       "<div>\n",
       "<style scoped>\n",
       "    .dataframe tbody tr th:only-of-type {\n",
       "        vertical-align: middle;\n",
       "    }\n",
       "\n",
       "    .dataframe tbody tr th {\n",
       "        vertical-align: top;\n",
       "    }\n",
       "\n",
       "    .dataframe thead th {\n",
       "        text-align: right;\n",
       "    }\n",
       "</style>\n",
       "<table border=\"1\" class=\"dataframe\">\n",
       "  <thead>\n",
       "    <tr style=\"text-align: right;\">\n",
       "      <th></th>\n",
       "      <th>loss</th>\n",
       "      <th>val_loss</th>\n",
       "    </tr>\n",
       "  </thead>\n",
       "  <tbody>\n",
       "    <tr>\n",
       "      <th>0</th>\n",
       "      <td>672151360.0</td>\n",
       "      <td>688113088.0</td>\n",
       "    </tr>\n",
       "    <tr>\n",
       "      <th>1</th>\n",
       "      <td>672144576.0</td>\n",
       "      <td>688106432.0</td>\n",
       "    </tr>\n",
       "    <tr>\n",
       "      <th>2</th>\n",
       "      <td>672133568.0</td>\n",
       "      <td>688085952.0</td>\n",
       "    </tr>\n",
       "    <tr>\n",
       "      <th>3</th>\n",
       "      <td>672085568.0</td>\n",
       "      <td>687983808.0</td>\n",
       "    </tr>\n",
       "    <tr>\n",
       "      <th>4</th>\n",
       "      <td>671874176.0</td>\n",
       "      <td>687590720.0</td>\n",
       "    </tr>\n",
       "    <tr>\n",
       "      <th>...</th>\n",
       "      <td>...</td>\n",
       "      <td>...</td>\n",
       "    </tr>\n",
       "    <tr>\n",
       "      <th>295</th>\n",
       "      <td>19334890.0</td>\n",
       "      <td>23017416.0</td>\n",
       "    </tr>\n",
       "    <tr>\n",
       "      <th>296</th>\n",
       "      <td>19346330.0</td>\n",
       "      <td>23354538.0</td>\n",
       "    </tr>\n",
       "    <tr>\n",
       "      <th>297</th>\n",
       "      <td>19337408.0</td>\n",
       "      <td>23527996.0</td>\n",
       "    </tr>\n",
       "    <tr>\n",
       "      <th>298</th>\n",
       "      <td>19310618.0</td>\n",
       "      <td>23537028.0</td>\n",
       "    </tr>\n",
       "    <tr>\n",
       "      <th>299</th>\n",
       "      <td>19298764.0</td>\n",
       "      <td>23406660.0</td>\n",
       "    </tr>\n",
       "  </tbody>\n",
       "</table>\n",
       "<p>300 rows × 2 columns</p>\n",
       "</div>"
      ],
      "text/plain": [
       "            loss     val_loss\n",
       "0    672151360.0  688113088.0\n",
       "1    672144576.0  688106432.0\n",
       "2    672133568.0  688085952.0\n",
       "3    672085568.0  687983808.0\n",
       "4    671874176.0  687590720.0\n",
       "..           ...          ...\n",
       "295   19334890.0   23017416.0\n",
       "296   19346330.0   23354538.0\n",
       "297   19337408.0   23527996.0\n",
       "298   19310618.0   23537028.0\n",
       "299   19298764.0   23406660.0\n",
       "\n",
       "[300 rows x 2 columns]"
      ]
     },
     "execution_count": 91,
     "metadata": {},
     "output_type": "execute_result"
    }
   ],
   "source": [
    "lossData"
   ]
  },
  {
   "cell_type": "code",
   "execution_count": 106,
   "metadata": {},
   "outputs": [
    {
     "data": {
      "text/plain": [
       "<AxesSubplot:>"
      ]
     },
     "execution_count": 106,
     "metadata": {},
     "output_type": "execute_result"
    },
    {
     "data": {
      "image/png": "[encoded data removed]",
      "text/plain": [
       "<Figure size 432x288 with 1 Axes>"
      ]
     },
     "metadata": {
      "needs_background": "light"
     },
     "output_type": "display_data"
    }
   ],
   "source": [
    "lossData.plot()\n",
    "#if loss goes down and val_loss goes up it called overfitting\n",
    "# when there was a overfitting model find very close values on test values but cant make a true predict on new values\n",
    "# but this model is looks good"
   ]
  },
  {
   "cell_type": "code",
   "execution_count": 97,
   "metadata": {},
   "outputs": [],
   "source": [
    "from sklearn.metrics import mean_squared_error, mean_absolute_error"
   ]
  },
  {
   "cell_type": "code",
   "execution_count": 98,
   "metadata": {},
   "outputs": [],
   "source": [
    "predictList = model.predict(x_test)"
   ]
  },
  {
   "cell_type": "code",
   "execution_count": 99,
   "metadata": {},
   "outputs": [
    {
     "data": {
      "text/plain": [
       "array([[20412.02 ],\n",
       "       [22917.02 ],\n",
       "       [24585.246],\n",
       "       ...,\n",
       "       [25005.73 ],\n",
       "       [ 9667.946],\n",
       "       [24191.355]], dtype=float32)"
      ]
     },
     "execution_count": 99,
     "metadata": {},
     "output_type": "execute_result"
    }
   ],
   "source": [
    "predictList"
   ]
  },
  {
   "cell_type": "code",
   "execution_count": 102,
   "metadata": {},
   "outputs": [
    {
     "data": {
      "text/plain": [
       "3391.0846131138537"
      ]
     },
     "execution_count": 102,
     "metadata": {},
     "output_type": "execute_result"
    }
   ],
   "source": [
    "mean_absolute_error(y_test,predictList)\n",
    "# there ara 3391 pound difference"
   ]
  },
  {
   "cell_type": "code",
   "execution_count": 103,
   "metadata": {},
   "outputs": [
    {
     "data": {
      "text/plain": [
       "0.15321013870690825"
      ]
     },
     "execution_count": 103,
     "metadata": {},
     "output_type": "execute_result"
    }
   ],
   "source": [
    "# our mean price is 22133 pound\n",
    "3391 / 22133"
   ]
  },
  {
   "cell_type": "code",
   "execution_count": 107,
   "metadata": {},
   "outputs": [],
   "source": [
    "# 15% difference is probably not good \n",
    "#TO REDUCE IT\n",
    "# more celaning on dataset\n",
    "#change test_size and split size\n",
    "#increase epoch\n",
    "# change neurons and layers count"
   ]
  },
  {
   "cell_type": "code",
   "execution_count": 113,
   "metadata": {},
   "outputs": [
    {
     "data": {
      "text/plain": [
       "[<matplotlib.lines.Line2D at 0x28fb8b6fc70>]"
      ]
     },
     "execution_count": 113,
     "metadata": {},
     "output_type": "execute_result"
    },
    {
     "data": {
      "image/png": "[encoded data removed]",
      "text/plain": [
       "<Figure size 432x288 with 1 Axes>"
      ]
     },
     "metadata": {
      "needs_background": "light"
     },
     "output_type": "display_data"
    }
   ],
   "source": [
    "plt.scatter(y_test,predictList)\n",
    "plt.plot(y_test,y_test,\"r\")"
   ]
  },
  {
   "cell_type": "code",
   "execution_count": 114,
   "metadata": {},
   "outputs": [
    {
     "data": {
      "text/plain": [
       "year           2020.0\n",
       "price         65980.0\n",
       "mileage        3999.0\n",
       "tax             145.0\n",
       "mpg              28.0\n",
       "engineSize        4.0\n",
       "Name: 3191, dtype: float64"
      ]
     },
     "execution_count": 114,
     "metadata": {},
     "output_type": "execute_result"
    }
   ],
   "source": [
    "df.iloc[2]"
   ]
  },
  {
   "cell_type": "code",
   "execution_count": 122,
   "metadata": {},
   "outputs": [],
   "source": [
    "newCarSeries = df.drop(\"price\",axis=1).iloc[2]"
   ]
  },
  {
   "cell_type": "code",
   "execution_count": 123,
   "metadata": {},
   "outputs": [
    {
     "data": {
      "text/plain": [
       "year          2020.0\n",
       "mileage       3999.0\n",
       "tax            145.0\n",
       "mpg             28.0\n",
       "engineSize       4.0\n",
       "Name: 3191, dtype: float64"
      ]
     },
     "execution_count": 123,
     "metadata": {},
     "output_type": "execute_result"
    }
   ],
   "source": [
    "newCarSeries"
   ]
  },
  {
   "cell_type": "code",
   "execution_count": 128,
   "metadata": {},
   "outputs": [],
   "source": [
    "newCarSeries = scaler.transform(newCarSeries.values.reshape(-1,5))"
   ]
  },
  {
   "cell_type": "code",
   "execution_count": 130,
   "metadata": {},
   "outputs": [
    {
     "data": {
      "text/plain": [
       "array([[1.        , 0.02156862, 0.25      , 0.12442183, 0.64516129]])"
      ]
     },
     "execution_count": 130,
     "metadata": {},
     "output_type": "execute_result"
    }
   ],
   "source": [
    "newCarSeries"
   ]
  },
  {
   "cell_type": "code",
   "execution_count": 131,
   "metadata": {},
   "outputs": [
    {
     "data": {
      "text/plain": [
       "array([[61960.074]], dtype=float32)"
      ]
     },
     "execution_count": 131,
     "metadata": {},
     "output_type": "execute_result"
    }
   ],
   "source": [
    "model.predict(newCarSeries)"
   ]
  },
  {
   "cell_type": "markdown",
   "metadata": {},
   "source": [
    "# I tryed different neurons and layers"
   ]
  },
  {
   "cell_type": "code",
   "execution_count": 132,
   "metadata": {},
   "outputs": [],
   "source": [
    "# real value of our predict is 65980"
   ]
  },
  {
   "cell_type": "code",
   "execution_count": 133,
   "metadata": {},
   "outputs": [
    {
     "data": {
      "text/plain": [
       "-4020"
      ]
     },
     "execution_count": 133,
     "metadata": {},
     "output_type": "execute_result"
    }
   ],
   "source": [
    "#61960 starts with 4 layers 12 neuron\n",
    "61960 - 65980"
   ]
  },
  {
   "cell_type": "code",
   "execution_count": 134,
   "metadata": {},
   "outputs": [
    {
     "data": {
      "text/plain": [
       "-3571"
      ]
     },
     "execution_count": 134,
     "metadata": {},
     "output_type": "execute_result"
    }
   ],
   "source": [
    "#62409  5 layers 20 neuron\n",
    "62409 - 65980"
   ]
  },
  {
   "cell_type": "code",
   "execution_count": 135,
   "metadata": {},
   "outputs": [
    {
     "data": {
      "text/plain": [
       "-3880"
      ]
     },
     "execution_count": 135,
     "metadata": {},
     "output_type": "execute_result"
    }
   ],
   "source": [
    "#62100  7 layers 20 neuron\n",
    "62100 - 65980"
   ]
  },
  {
   "cell_type": "code",
   "execution_count": 136,
   "metadata": {},
   "outputs": [
    {
     "data": {
      "text/plain": [
       "-5853"
      ]
     },
     "execution_count": 136,
     "metadata": {},
     "output_type": "execute_result"
    }
   ],
   "source": [
    "#60127  5 layers 30 neuron\n",
    "60127 - 65980"
   ]
  },
  {
   "cell_type": "code",
   "execution_count": 137,
   "metadata": {},
   "outputs": [
    {
     "data": {
      "text/plain": [
       "-7975"
      ]
     },
     "execution_count": 137,
     "metadata": {},
     "output_type": "execute_result"
    }
   ],
   "source": [
    "#58005 5 layers 40 neuron\n",
    "58005 - 65980"
   ]
  },
  {
   "cell_type": "raw",
   "metadata": {},
   "source": [
    "It looks like the best option is 5 layers 20 neuron\n",
    "Different actions should be done for better optimization..."
   ]
  },
  {
   "cell_type": "code",
   "execution_count": null,
   "metadata": {},
   "outputs": [],
   "source": []
  }
 ],
 "metadata": {
  "kernelspec": {
   "display_name": "Python 3",
   "language": "python",
   "name": "python3"
  },
  "language_info": {
   "codemirror_mode": {
    "name": "ipython",
    "version": 3
   },
   "file_extension": ".py",
   "mimetype": "text/x-python",
   "name": "python",
   "nbconvert_exporter": "python",
   "pygments_lexer": "ipython3",
   "version": "3.8.6"
  }
 },
 "nbformat": 4,
 "nbformat_minor": 4
}
